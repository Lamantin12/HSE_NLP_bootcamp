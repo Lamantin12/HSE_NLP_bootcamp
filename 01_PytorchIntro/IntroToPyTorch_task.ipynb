{
  "cells": [
    {
      "cell_type": "markdown",
      "source": [
        "# Знакомство с PyTorch"
      ],
      "metadata": {
        "id": "r_a9kwC_ISKE"
      }
    },
    {
      "cell_type": "markdown",
      "metadata": {
        "id": "i1hv5i-PkRLO"
      },
      "source": [
        "Сейчас мы познакомимся с библиотекой *PyTorch*. Он очень похож на *NumPy*, и сейчас вы в этом убедитесь!\n",
        "\n",
        "А почему именно *PyTorch*? Почитать можно [здесь](https://habr.com/ru/post/334380/)."
      ]
    },
    {
      "cell_type": "markdown",
      "source": [
        "## Вспоминаем *NumPy* и сравниваем операции в *PyTorch*"
      ],
      "metadata": {
        "id": "A7GbQRcUIkT4"
      }
    },
    {
      "cell_type": "markdown",
      "metadata": {
        "id": "9Y0oUAuhkRLX"
      },
      "source": [
        "Мы можем создавать матрицы, перемножать их, складывать, транспонировать и в целом совершать любые матричные операции"
      ]
    },
    {
      "cell_type": "code",
      "execution_count": 1,
      "metadata": {
        "id": "3m6fDtKlkRLZ"
      },
      "outputs": [],
      "source": [
        "import numpy as np \n",
        "\n",
        "import torch\n",
        "import torchvision\n",
        "\n",
        "import torch.nn as nn\n",
        "import torch.nn.functional as F\n",
        "\n",
        "import matplotlib.pyplot as plt"
      ]
    },
    {
      "cell_type": "code",
      "execution_count": 2,
      "metadata": {
        "colab": {
          "base_uri": "https://localhost:8080/"
        },
        "id": "nKJ_eIf9kRLc",
        "outputId": "65fac9c4-6161-4bc7-aa21-8acfe33d09e5"
      },
      "outputs": [
        {
          "output_type": "execute_result",
          "data": {
            "text/plain": [
              "array([[0.37454012, 0.95071431, 0.73199394],\n",
              "       [0.59865848, 0.15601864, 0.15599452],\n",
              "       [0.05808361, 0.86617615, 0.60111501],\n",
              "       [0.70807258, 0.02058449, 0.96990985],\n",
              "       [0.83244264, 0.21233911, 0.18182497]])"
            ]
          },
          "metadata": {},
          "execution_count": 2
        }
      ],
      "source": [
        "np.random.seed(42)\n",
        "\n",
        "a = np.random.rand(5, 3) # создали случайную матрицу \n",
        "a"
      ]
    },
    {
      "cell_type": "code",
      "execution_count": 3,
      "metadata": {
        "colab": {
          "base_uri": "https://localhost:8080/"
        },
        "id": "m7QzfmpNkRLd",
        "outputId": "2510ee47-479a-423b-ca99-c2ae43f94f9b"
      },
      "outputs": [
        {
          "output_type": "stream",
          "name": "stdout",
          "text": [
            "Проверили размеры : (5, 3)\n",
            "\n"
          ]
        }
      ],
      "source": [
        "print(\"Проверили размеры : %s\\n\" % (a.shape,))"
      ]
    },
    {
      "cell_type": "code",
      "execution_count": 4,
      "metadata": {
        "colab": {
          "base_uri": "https://localhost:8080/"
        },
        "id": "iSH48GyMkRLe",
        "outputId": "3286854b-08d4-4096-e611-34a0264d3f2c"
      },
      "outputs": [
        {
          "output_type": "stream",
          "name": "stdout",
          "text": [
            "Добавили 5 :\n",
            "[[5.37454012 5.95071431 5.73199394]\n",
            " [5.59865848 5.15601864 5.15599452]\n",
            " [5.05808361 5.86617615 5.60111501]\n",
            " [5.70807258 5.02058449 5.96990985]\n",
            " [5.83244264 5.21233911 5.18182497]]\n",
            "\n"
          ]
        }
      ],
      "source": [
        "print(\"Добавили 5 :\\n%s\\n\" % (a + 5))"
      ]
    },
    {
      "cell_type": "markdown",
      "source": [
        "## Задание"
      ],
      "metadata": {
        "id": "5PQpPyl-eNWC"
      }
    },
    {
      "cell_type": "markdown",
      "source": [
        "Умножьте матрицу `а` на транспонированную матрицу `а`.  \n",
        "\n",
        "Чему равен самый первый элемент результата?  \n",
        "Ответ округлите до сотых."
      ],
      "metadata": {
        "id": "Q-Xs6jUiJUqc"
      }
    },
    {
      "cell_type": "code",
      "execution_count": 5,
      "metadata": {
        "id": "3PH52x_pkRLf",
        "outputId": "618589dd-bebe-4ee1-cd70-0c05e0fb0d45",
        "colab": {
          "base_uri": "https://localhost:8080/"
        }
      },
      "outputs": [
        {
          "output_type": "execute_result",
          "data": {
            "text/plain": [
              "array([[1.57995312, 0.48673782, 1.28525324, 0.9947397 , 0.64675177],\n",
              "       [0.48673782, 0.40706809, 0.26368252, 0.57840584, 0.55984141],\n",
              "       [1.28525324, 0.26368252, 1.11497408, 0.64198458, 0.34157207],\n",
              "       [0.9947397 , 0.57840584, 0.64198458, 1.44251562, 0.77015453],\n",
              "       [0.64675177, 0.55984141, 0.34157207, 0.77015453, 0.77110897]])"
            ]
          },
          "metadata": {},
          "execution_count": 5
        }
      ],
      "source": [
        "a @ a.T"
      ]
    },
    {
      "cell_type": "code",
      "execution_count": 6,
      "metadata": {
        "colab": {
          "base_uri": "https://localhost:8080/"
        },
        "id": "NdmpOlEZkRLg",
        "outputId": "bb5e1559-29e8-4e92-cb08-dd42447f7407"
      },
      "outputs": [
        {
          "output_type": "stream",
          "name": "stdout",
          "text": [
            "Среднее по колонкам :\n",
            "[0.68574946 0.30355721 0.50845826 0.56618897 0.40886891]\n",
            "\n"
          ]
        }
      ],
      "source": [
        "print(\"Среднее по колонкам :\\n%s\\n\" % (a.mean(axis=-1)))"
      ]
    },
    {
      "cell_type": "code",
      "execution_count": 7,
      "metadata": {
        "colab": {
          "base_uri": "https://localhost:8080/"
        },
        "id": "4jbmtVfLkRLh",
        "outputId": "b93ea8f7-7f32-49ce-a4df-7407bc1de93e"
      },
      "outputs": [
        {
          "output_type": "stream",
          "name": "stdout",
          "text": [
            "Изменили размеры :\n",
            "(3, 5)\n",
            "\n"
          ]
        }
      ],
      "source": [
        "print(\"Изменили размеры :\\n%s\\n\" % (a.reshape(3, 5).shape,))"
      ]
    },
    {
      "cell_type": "markdown",
      "metadata": {
        "id": "gOccPs9wkRLi"
      },
      "source": [
        "## Задание\n",
        "\n",
        "При помощи *NumPy* посчитайте сумму квадратов натуральных чисел от 1 до 10000."
      ]
    },
    {
      "cell_type": "code",
      "execution_count": 12,
      "metadata": {
        "id": "AXxc0OADkRLi",
        "outputId": "57962519-c508-49bf-b7a8-bf57fe27a540",
        "colab": {
          "base_uri": "https://localhost:8080/"
        }
      },
      "outputs": [
        {
          "output_type": "execute_result",
          "data": {
            "text/plain": [
              "333383335000"
            ]
          },
          "metadata": {},
          "execution_count": 12
        }
      ],
      "source": [
        "(np.arange(1, 10001, 1)**2).sum()"
      ]
    },
    {
      "cell_type": "markdown",
      "metadata": {
        "id": "e0k_uiiokRLj"
      },
      "source": [
        "Аналогичные операции в *PyTorch* выглядят следующим образом, синтаксис отличается, но совсем немного:"
      ]
    },
    {
      "cell_type": "code",
      "execution_count": 13,
      "metadata": {
        "colab": {
          "base_uri": "https://localhost:8080/"
        },
        "id": "PWv2AHRykRLk",
        "outputId": "fbcc1c15-8e3c-443e-a922-46c291ae8123"
      },
      "outputs": [
        {
          "output_type": "execute_result",
          "data": {
            "text/plain": [
              "tensor([[0.9179, 0.5030, 0.6434],\n",
              "        [0.4667, 0.6165, 0.0383],\n",
              "        [0.2693, 0.3927, 0.3582],\n",
              "        [0.8210, 0.0365, 0.3163],\n",
              "        [0.5787, 0.0729, 0.3927]])"
            ]
          },
          "metadata": {},
          "execution_count": 13
        }
      ],
      "source": [
        "x = torch.rand(5, 3)\n",
        "x"
      ]
    },
    {
      "cell_type": "code",
      "execution_count": 14,
      "metadata": {
        "colab": {
          "base_uri": "https://localhost:8080/"
        },
        "id": "fjNGDbtPkRLk",
        "outputId": "58a4144d-1d32-4dda-fa98-56fcb887a015"
      },
      "outputs": [
        {
          "output_type": "stream",
          "name": "stdout",
          "text": [
            "Проверили размеры : torch.Size([5, 3])\n",
            "\n"
          ]
        }
      ],
      "source": [
        "print(\"Проверили размеры : %s\\n\" % (x.shape,))"
      ]
    },
    {
      "cell_type": "code",
      "execution_count": 15,
      "metadata": {
        "colab": {
          "base_uri": "https://localhost:8080/"
        },
        "id": "DALGo7QHkRLl",
        "outputId": "8e46a2c6-fa28-4eaa-e48b-c0b88ab679b4"
      },
      "outputs": [
        {
          "output_type": "stream",
          "name": "stdout",
          "text": [
            "Добавили 5 :\n",
            "tensor([[5.9179, 5.5030, 5.6434],\n",
            "        [5.4667, 5.6165, 5.0383],\n",
            "        [5.2693, 5.3927, 5.3582],\n",
            "        [5.8210, 5.0365, 5.3163],\n",
            "        [5.5787, 5.0729, 5.3927]])\n",
            "\n"
          ]
        }
      ],
      "source": [
        "print(\"Добавили 5 :\\n%s\\n\" % (x + 5))"
      ]
    },
    {
      "cell_type": "code",
      "execution_count": 16,
      "metadata": {
        "colab": {
          "base_uri": "https://localhost:8080/"
        },
        "id": "gm7QOaAQkRLm",
        "outputId": "923d2c82-3f1e-45f9-d64f-d26cbd855648"
      },
      "outputs": [
        {
          "output_type": "stream",
          "name": "stdout",
          "text": [
            "X*X^T  (1):\n",
            "tensor([[1.5096, 0.7631, 0.6752, 0.9755, 0.8205],\n",
            "        [0.7631, 0.5994, 0.3816, 0.4178, 0.3300],\n",
            "        [0.6752, 0.3816, 0.3551, 0.3488, 0.3251],\n",
            "        [0.9755, 0.4178, 0.3488, 0.7755, 0.6020],\n",
            "        [0.8205, 0.3300, 0.3251, 0.6020, 0.4944]])\n",
            "\n",
            "X*X^T  (2):\n",
            "tensor([[1.5096, 0.7631, 0.6752, 0.9755, 0.8205],\n",
            "        [0.7631, 0.5994, 0.3816, 0.4178, 0.3300],\n",
            "        [0.6752, 0.3816, 0.3551, 0.3488, 0.3251],\n",
            "        [0.9755, 0.4178, 0.3488, 0.7755, 0.6020],\n",
            "        [0.8205, 0.3300, 0.3251, 0.6020, 0.4944]])\n",
            "\n"
          ]
        }
      ],
      "source": [
        "print(\"X*X^T  (1):\\n%s\\n\" % (torch.matmul(x, x.transpose(1, 0))))\n",
        "print(\"X*X^T  (2):\\n%s\\n\" % (x.mm(x.t())))"
      ]
    },
    {
      "cell_type": "code",
      "execution_count": 17,
      "metadata": {
        "colab": {
          "base_uri": "https://localhost:8080/"
        },
        "id": "9MlA4NnokRLm",
        "outputId": "1c6f1d6b-7835-49e4-fbc3-39bb1f977cc0"
      },
      "outputs": [
        {
          "output_type": "stream",
          "name": "stdout",
          "text": [
            "Среднее по колонкам :\n",
            "tensor([0.6881, 0.3738, 0.3401, 0.3913, 0.3481])\n",
            "\n"
          ]
        }
      ],
      "source": [
        "print(\"Среднее по колонкам :\\n%s\\n\" % (x.mean(dim=-1)))"
      ]
    },
    {
      "cell_type": "code",
      "execution_count": 18,
      "metadata": {
        "colab": {
          "base_uri": "https://localhost:8080/"
        },
        "id": "1wqQTDpOkRLn",
        "outputId": "7630e0bf-1e24-4b82-8b87-1a33456a4cca"
      },
      "outputs": [
        {
          "output_type": "stream",
          "name": "stdout",
          "text": [
            "Изменили размеры :\n",
            "torch.Size([3, 5])\n",
            "\n",
            "Изменили размеры :\n",
            "torch.Size([3, 5])\n",
            "\n"
          ]
        }
      ],
      "source": [
        "print(\"Изменили размеры :\\n%s\\n\" % (x.view([3, 5]).shape,))\n",
        "print(\"Изменили размеры :\\n%s\\n\" % (x.view_as(x.t()).shape,))"
      ]
    },
    {
      "cell_type": "markdown",
      "metadata": {
        "id": "EtnLnIxPkRLn"
      },
      "source": [
        "Небольшой пример того, как меняются операции:\n",
        "\n",
        "* `x.reshape([1,2,8]) -> x.view(1,2,8)`\n",
        "\n",
        "* `x.sum(axis=-1) -> x.sum(dim=-1)`\n",
        "\n",
        "* `x.astype('int64') -> x.type(torch.LongTensor)`\n",
        "\n",
        "Для помощи вам есть [таблица](https://github.com/torch/torch7/wiki/Torch-for-Numpy-users), которая поможет вам найти аналог операции в *NumPy*.\n"
      ]
    },
    {
      "cell_type": "markdown",
      "metadata": {
        "id": "V-QMteahkRLo"
      },
      "source": [
        "При помощи *PyTorch* посчитаем сумму квадратов натуральных чисел от 1 до 10000."
      ]
    },
    {
      "cell_type": "code",
      "execution_count": 19,
      "metadata": {
        "colab": {
          "base_uri": "https://localhost:8080/"
        },
        "id": "rHzmts5AkRLo",
        "outputId": "cda2036a-1e2e-4e2f-fed6-43a51b439a2d"
      },
      "outputs": [
        {
          "output_type": "stream",
          "name": "stderr",
          "text": [
            "<ipython-input-19-b9d129fd8adb>:1: UserWarning: torch.range is deprecated and will be removed in a future release because its behavior is inconsistent with Python's range builtin. Instead, use torch.arange, which produces values in [start, end).\n",
            "  torch.sum(torch.range(1, 10000) ** 2)\n"
          ]
        },
        {
          "output_type": "execute_result",
          "data": {
            "text/plain": [
              "tensor(3.3338e+11)"
            ]
          },
          "metadata": {},
          "execution_count": 19
        }
      ],
      "source": [
        "torch.sum(torch.range(1, 10000) ** 2)"
      ]
    },
    {
      "cell_type": "markdown",
      "metadata": {
        "id": "-ebxkKPikRLp"
      },
      "source": [
        "Создаем тензоры в *PyTorch* и снова изучаем базовые операции"
      ]
    },
    {
      "cell_type": "code",
      "execution_count": 20,
      "metadata": {
        "colab": {
          "base_uri": "https://localhost:8080/"
        },
        "id": "lnxk_oJZkRLq",
        "outputId": "098a2ce4-5532-4923-9ae1-ca77ead660a8"
      },
      "outputs": [
        {
          "output_type": "stream",
          "name": "stdout",
          "text": [
            "tensor([[ 0.0000e+00,  0.0000e+00,  0.0000e+00],\n",
            "        [ 0.0000e+00,  1.5588e-34,  0.0000e+00],\n",
            "        [ 3.1706e-35,  0.0000e+00, -2.5784e-36],\n",
            "        [ 4.5834e-41,  0.0000e+00,  0.0000e+00],\n",
            "        [ 0.0000e+00,  0.0000e+00,  0.0000e+00]])\n"
          ]
        }
      ],
      "source": [
        "x = torch.empty(5, 3) # пустой тензор\n",
        "print(x)"
      ]
    },
    {
      "cell_type": "code",
      "execution_count": 21,
      "metadata": {
        "colab": {
          "base_uri": "https://localhost:8080/"
        },
        "id": "fKAtmLU1kRLr",
        "outputId": "4aae49e9-cd30-40f8-89b1-e847228ed5bf"
      },
      "outputs": [
        {
          "output_type": "stream",
          "name": "stdout",
          "text": [
            "tensor([[0.9796, 0.7963, 0.1787],\n",
            "        [0.2086, 0.6573, 0.1459],\n",
            "        [0.2888, 0.6491, 0.0057],\n",
            "        [0.1564, 0.1272, 0.4018],\n",
            "        [0.8209, 0.2454, 0.8148]])\n"
          ]
        }
      ],
      "source": [
        "x = torch.rand(5, 3) # тензор со случайными числами\n",
        "print(x)"
      ]
    },
    {
      "cell_type": "code",
      "execution_count": 22,
      "metadata": {
        "colab": {
          "base_uri": "https://localhost:8080/"
        },
        "id": "xSMg9XO5kRLr",
        "outputId": "ef30e914-46f2-4634-e01e-45a8082eccd0"
      },
      "outputs": [
        {
          "output_type": "stream",
          "name": "stdout",
          "text": [
            "tensor([[0, 0, 0],\n",
            "        [0, 0, 0],\n",
            "        [0, 0, 0],\n",
            "        [0, 0, 0],\n",
            "        [0, 0, 0]])\n"
          ]
        }
      ],
      "source": [
        "x = torch.zeros(5, 3, dtype=torch.long) # тензор с нулями и указанием типов чисел\n",
        "print(x)"
      ]
    },
    {
      "cell_type": "code",
      "execution_count": 23,
      "metadata": {
        "colab": {
          "base_uri": "https://localhost:8080/"
        },
        "id": "FQlyXpO1kRLs",
        "outputId": "9065f0dd-278d-47c6-86c4-7f1bd26837ca"
      },
      "outputs": [
        {
          "output_type": "stream",
          "name": "stdout",
          "text": [
            "tensor([5.5000, 3.0000])\n"
          ]
        }
      ],
      "source": [
        "x = torch.tensor([5.5, 3]) # конструируем тензор из питоновского листа\n",
        "print(x)"
      ]
    },
    {
      "cell_type": "code",
      "execution_count": 24,
      "metadata": {
        "colab": {
          "base_uri": "https://localhost:8080/"
        },
        "id": "9upBvFU3kRLs",
        "outputId": "52c0d7d3-646f-4c90-d8cf-27ffda7ce766"
      },
      "outputs": [
        {
          "output_type": "stream",
          "name": "stdout",
          "text": [
            "tensor([[1., 1., 1.],\n",
            "        [1., 1., 1.],\n",
            "        [1., 1., 1.],\n",
            "        [1., 1., 1.],\n",
            "        [1., 1., 1.]], dtype=torch.float64) torch.Size([5, 3])\n"
          ]
        }
      ],
      "source": [
        "x = x.new_ones(5, 3, dtype=torch.double) # используем уже созданный тензор для создания тензора из единичек\n",
        "print(x, x.size()) "
      ]
    },
    {
      "cell_type": "code",
      "execution_count": 25,
      "metadata": {
        "colab": {
          "base_uri": "https://localhost:8080/"
        },
        "id": "_u-h30lYkRLt",
        "outputId": "24bb6a5b-e228-4bde-f9e8-c560d4a20bcd"
      },
      "outputs": [
        {
          "output_type": "stream",
          "name": "stdout",
          "text": [
            "tensor([[-1.8440, -0.6339, -0.6537],\n",
            "        [-2.7656, -1.6009, -0.5328],\n",
            "        [ 0.1742,  0.4293,  2.8787],\n",
            "        [ 0.7435, -0.7573,  1.9120],\n",
            "        [-0.4583, -0.0034, -0.3040]]) torch.Size([5, 3])\n"
          ]
        }
      ],
      "source": [
        "x = torch.randn_like(x, dtype=torch.float) # создаем матрицу с размерами как у x\n",
        "print(x, x.size())"
      ]
    },
    {
      "cell_type": "markdown",
      "source": [
        "## Задание"
      ],
      "metadata": {
        "id": "nct86OE6Lzdt"
      }
    },
    {
      "cell_type": "markdown",
      "source": [
        "Сгенерируйте два тензора: `x` и `y` размера 5 на 3 со случайными числами.\n",
        "Вычислите сумму тензоров `x` и `y`.\n",
        "\n",
        "В ответе напишите значение первой координаты в полученной суммы, округленной до сотых."
      ],
      "metadata": {
        "id": "VdZOcgoafJdK"
      }
    },
    {
      "cell_type": "code",
      "execution_count": 28,
      "metadata": {
        "id": "f-zCf-MhkRLt",
        "outputId": "1c2ca5eb-4df5-451f-9cc0-bcb617f79282",
        "colab": {
          "base_uri": "https://localhost:8080/"
        }
      },
      "outputs": [
        {
          "output_type": "execute_result",
          "data": {
            "text/plain": [
              "tensor([[1.3117, 1.8004, 0.9568],\n",
              "        [1.2259, 1.0179, 0.8705],\n",
              "        [0.6979, 1.0906, 1.7725],\n",
              "        [0.2385, 1.2041, 0.9524],\n",
              "        [1.0688, 1.1149, 0.7473]])"
            ]
          },
          "metadata": {},
          "execution_count": 28
        }
      ],
      "source": [
        "torch.manual_seed(42)\n",
        "x = torch.rand(5, 3)\n",
        "y = torch.rand(5, 3)\n",
        "x + y\n",
        "# your code here"
      ]
    },
    {
      "cell_type": "code",
      "execution_count": 27,
      "metadata": {
        "id": "fwOv0PQykRLw",
        "outputId": "bf276c32-e2c5-4db8-e2ec-c77fdfb7d8c0",
        "colab": {
          "base_uri": "https://localhost:8080/"
        }
      },
      "outputs": [
        {
          "output_type": "stream",
          "name": "stdout",
          "text": [
            "tensor([[0.3789, 0.8102, 0.2197],\n",
            "        [0.2557, 0.2450, 0.1620],\n",
            "        [0.1132, 0.2356, 0.7824],\n",
            "        [0.0140, 0.2519, 0.2130],\n",
            "        [0.1733, 0.3106, 0.0046]])\n"
          ]
        }
      ],
      "source": [
        "print(x * y) # поэлементное умножение"
      ]
    },
    {
      "cell_type": "markdown",
      "source": [
        "## Задание"
      ],
      "metadata": {
        "id": "95pa8_HnL7r0"
      }
    },
    {
      "cell_type": "markdown",
      "source": [
        "Умножьте матрицу `x` на транспонированную матрицу `y`.\n",
        "\n",
        "В ответ напишите последний элемент (правый нижний) полученной матрицы.  \n",
        "Ответ округлите до сотых."
      ],
      "metadata": {
        "id": "lmF9KzEtgGOa"
      }
    },
    {
      "cell_type": "code",
      "execution_count": 29,
      "metadata": {
        "id": "8CeulY3jkRLx",
        "outputId": "7fed932f-ad0e-4960-c599-7e4380afe9fa",
        "colab": {
          "base_uri": "https://localhost:8080/"
        }
      },
      "outputs": [
        {
          "output_type": "execute_result",
          "data": {
            "text/plain": [
              "tensor([[1.4088, 0.9125, 0.9795, 0.4769, 0.6789],\n",
              "        [1.1025, 0.6627, 1.0391, 0.4219, 0.4086],\n",
              "        [1.3528, 0.8200, 1.1313, 0.5785, 0.4912],\n",
              "        [1.2254, 0.7820, 0.8300, 0.4789, 0.5416],\n",
              "        [1.3013, 0.7878, 1.1686, 0.5105, 0.4885]])"
            ]
          },
          "metadata": {},
          "execution_count": 29
        }
      ],
      "source": [
        "x @ y.T"
      ]
    },
    {
      "cell_type": "code",
      "execution_count": null,
      "metadata": {
        "colab": {
          "base_uri": "https://localhost:8080/"
        },
        "id": "JfIqJz8EkRLy",
        "outputId": "47f940f1-46d2-46fd-bd6e-4541f65d79d1"
      },
      "outputs": [
        {
          "output_type": "stream",
          "name": "stdout",
          "text": [
            "torch.Size([1, 5, 3])\n"
          ]
        }
      ],
      "source": [
        "print(x.unsqueeze(0).shape) # добавили измерение в начало, аналог броадкастинга "
      ]
    },
    {
      "cell_type": "code",
      "execution_count": null,
      "metadata": {
        "colab": {
          "base_uri": "https://localhost:8080/"
        },
        "id": "WlGFxytDkRLz",
        "outputId": "5dafb85e-16ee-4d9f-8803-79750e8a7435"
      },
      "outputs": [
        {
          "output_type": "stream",
          "name": "stdout",
          "text": [
            "torch.Size([5, 3])\n"
          ]
        }
      ],
      "source": [
        "print(x.unsqueeze(0).squeeze(0).shape) # убрали измерение в начале, аналог броадкастинга "
      ]
    },
    {
      "cell_type": "code",
      "source": [
        "a = torch.rand((1,3))\n",
        "a"
      ],
      "metadata": {
        "colab": {
          "base_uri": "https://localhost:8080/"
        },
        "id": "CDlNQv5hNb8S",
        "outputId": "333707ef-335c-471c-af4b-9a8c217693aa"
      },
      "execution_count": null,
      "outputs": [
        {
          "output_type": "execute_result",
          "data": {
            "text/plain": [
              "tensor([[0.8823, 0.9150, 0.3829]])"
            ]
          },
          "metadata": {},
          "execution_count": 27
        }
      ]
    },
    {
      "cell_type": "code",
      "source": [
        "a.squeeze(0)"
      ],
      "metadata": {
        "colab": {
          "base_uri": "https://localhost:8080/"
        },
        "id": "qzPXu8k4Nb_X",
        "outputId": "276fc68a-c6ff-4e57-c9dc-a9241c89cf24"
      },
      "execution_count": null,
      "outputs": [
        {
          "output_type": "execute_result",
          "data": {
            "text/plain": [
              "tensor([0.8823, 0.9150, 0.3829])"
            ]
          },
          "metadata": {},
          "execution_count": 28
        }
      ]
    },
    {
      "cell_type": "markdown",
      "metadata": {
        "id": "hVtkNSS8kRLz"
      },
      "source": [
        "Мы также можем делать обычные срезы и переводить матрицы назад в *NumPy*:"
      ]
    },
    {
      "cell_type": "code",
      "execution_count": null,
      "metadata": {
        "colab": {
          "base_uri": "https://localhost:8080/"
        },
        "id": "6Jv3jZimkRLz",
        "outputId": "769ab5b4-2e1e-4284-fe1f-39113344792a"
      },
      "outputs": [
        {
          "output_type": "stream",
          "name": "stdout",
          "text": [
            "True\n",
            "True\n"
          ]
        }
      ],
      "source": [
        "a = np.ones((3, 5))\n",
        "x = torch.ones((3, 5))\n",
        "print(np.allclose(x.numpy(), a))\n",
        "print(np.allclose(x.numpy()[:, 1], a[:, 1]))"
      ]
    },
    {
      "cell_type": "code",
      "source": [
        "a = np.array([1,2,3,4])\n",
        "b = np.array([[5],[6],[7],[8]])\n",
        "\n",
        "a.shape, b.shape"
      ],
      "metadata": {
        "colab": {
          "base_uri": "https://localhost:8080/"
        },
        "id": "5jCXz5cakiw5",
        "outputId": "369f255a-5144-476d-fe2a-09a527c704ef"
      },
      "execution_count": null,
      "outputs": [
        {
          "output_type": "execute_result",
          "data": {
            "text/plain": [
              "((4,), (4, 1))"
            ]
          },
          "metadata": {},
          "execution_count": 34
        }
      ]
    },
    {
      "cell_type": "code",
      "source": [
        "a @ b"
      ],
      "metadata": {
        "colab": {
          "base_uri": "https://localhost:8080/"
        },
        "id": "KtEUqtkZkp6-",
        "outputId": "c3fbc569-dfc0-4bd1-cd89-b235f1dcc66f"
      },
      "execution_count": null,
      "outputs": [
        {
          "output_type": "execute_result",
          "data": {
            "text/plain": [
              "array([70])"
            ]
          },
          "metadata": {},
          "execution_count": 32
        }
      ]
    },
    {
      "cell_type": "code",
      "source": [
        "b @ a"
      ],
      "metadata": {
        "colab": {
          "base_uri": "https://localhost:8080/",
          "height": 164
        },
        "id": "rYIcV16ukw3_",
        "outputId": "7903aabc-c2f4-4605-e1a8-985b1942814c"
      },
      "execution_count": null,
      "outputs": [
        {
          "output_type": "error",
          "ename": "ValueError",
          "evalue": "ignored",
          "traceback": [
            "\u001b[0;31m---------------------------------------------------------------------------\u001b[0m",
            "\u001b[0;31mValueError\u001b[0m                                Traceback (most recent call last)",
            "\u001b[0;32m<ipython-input-33-6948e4cb9803>\u001b[0m in \u001b[0;36m<module>\u001b[0;34m\u001b[0m\n\u001b[0;32m----> 1\u001b[0;31m \u001b[0mb\u001b[0m \u001b[0;34m@\u001b[0m \u001b[0ma\u001b[0m\u001b[0;34m\u001b[0m\u001b[0;34m\u001b[0m\u001b[0m\n\u001b[0m",
            "\u001b[0;31mValueError\u001b[0m: matmul: Input operand 1 has a mismatch in its core dimension 0, with gufunc signature (n?,k),(k,m?)->(n?,m?) (size 4 is different from 1)"
          ]
        }
      ]
    }
  ],
  "metadata": {
    "colab": {
      "provenance": []
    },
    "kernelspec": {
      "display_name": "Python 3",
      "language": "python",
      "name": "python3"
    },
    "language_info": {
      "codemirror_mode": {
        "name": "ipython",
        "version": 3
      },
      "file_extension": ".py",
      "mimetype": "text/x-python",
      "name": "python",
      "nbconvert_exporter": "python",
      "pygments_lexer": "ipython3",
      "version": "3.6.9"
    },
    "accelerator": "GPU",
    "gpuClass": "standard"
  },
  "nbformat": 4,
  "nbformat_minor": 0
}