{
 "cells": [
  {
   "cell_type": "markdown",
   "id": "b549e187",
   "metadata": {},
   "source": [
    "# Review \n",
    "As I know what type of task will be on competition, I'll try to do similar problem with \n",
    "[job_salary_prediction_dataset](https://www.kaggle.com/competitions/job-salary-prediction/)"
   ]
  },
  {
   "cell_type": "markdown",
   "id": "37e2621b",
   "metadata": {},
   "source": [
    "# First data understanding and cleaning"
   ]
  },
  {
   "cell_type": "code",
   "execution_count": 24,
   "id": "023021e4",
   "metadata": {},
   "outputs": [],
   "source": [
    "import numpy as np\n",
    "import pandas as pd\n",
    "import matplotlib.pyplot as plt\n",
    "import seaborn as sns"
   ]
  },
  {
   "cell_type": "markdown",
   "id": "28877d1a",
   "metadata": {},
   "source": [
    "# Train"
   ]
  },
  {
   "cell_type": "code",
   "execution_count": 2,
   "id": "b1a5b44e",
   "metadata": {},
   "outputs": [],
   "source": [
    "train_df = pd.read_csv('data/Train_rev1.csv')"
   ]
  },
  {
   "cell_type": "code",
   "execution_count": 9,
   "id": "9e375eb8",
   "metadata": {},
   "outputs": [
    {
     "name": "stdout",
     "output_type": "stream",
     "text": [
      "<class 'pandas.core.frame.DataFrame'>\n",
      "RangeIndex: 244768 entries, 0 to 244767\n",
      "Data columns (total 12 columns):\n",
      " #   Column              Non-Null Count   Dtype \n",
      "---  ------              --------------   ----- \n",
      " 0   Id                  244768 non-null  int64 \n",
      " 1   Title               244767 non-null  object\n",
      " 2   FullDescription     244768 non-null  object\n",
      " 3   LocationRaw         244768 non-null  object\n",
      " 4   LocationNormalized  244768 non-null  object\n",
      " 5   ContractType        65442 non-null   object\n",
      " 6   ContractTime        180863 non-null  object\n",
      " 7   Company             212338 non-null  object\n",
      " 8   Category            244768 non-null  object\n",
      " 9   SalaryRaw           244768 non-null  object\n",
      " 10  SalaryNormalized    244768 non-null  int64 \n",
      " 11  SourceName          244767 non-null  object\n",
      "dtypes: int64(2), object(10)\n",
      "memory usage: 22.4+ MB\n"
     ]
    }
   ],
   "source": [
    "train_df.info()"
   ]
  },
  {
   "cell_type": "code",
   "execution_count": 4,
   "id": "74054b6c",
   "metadata": {},
   "outputs": [
    {
     "data": {
      "text/html": [
       "<div>\n",
       "<style scoped>\n",
       "    .dataframe tbody tr th:only-of-type {\n",
       "        vertical-align: middle;\n",
       "    }\n",
       "\n",
       "    .dataframe tbody tr th {\n",
       "        vertical-align: top;\n",
       "    }\n",
       "\n",
       "    .dataframe thead th {\n",
       "        text-align: right;\n",
       "    }\n",
       "</style>\n",
       "<table border=\"1\" class=\"dataframe\">\n",
       "  <thead>\n",
       "    <tr style=\"text-align: right;\">\n",
       "      <th></th>\n",
       "      <th>Id</th>\n",
       "      <th>Title</th>\n",
       "      <th>FullDescription</th>\n",
       "      <th>LocationRaw</th>\n",
       "      <th>LocationNormalized</th>\n",
       "      <th>ContractType</th>\n",
       "      <th>ContractTime</th>\n",
       "      <th>Company</th>\n",
       "      <th>Category</th>\n",
       "      <th>SalaryRaw</th>\n",
       "      <th>SalaryNormalized</th>\n",
       "      <th>SourceName</th>\n",
       "    </tr>\n",
       "  </thead>\n",
       "  <tbody>\n",
       "    <tr>\n",
       "      <th>0</th>\n",
       "      <td>12612628</td>\n",
       "      <td>Engineering Systems Analyst</td>\n",
       "      <td>Engineering Systems Analyst Dorking Surrey Sal...</td>\n",
       "      <td>Dorking, Surrey, Surrey</td>\n",
       "      <td>Dorking</td>\n",
       "      <td>NaN</td>\n",
       "      <td>permanent</td>\n",
       "      <td>Gregory Martin International</td>\n",
       "      <td>Engineering Jobs</td>\n",
       "      <td>20000 - 30000/annum 20-30K</td>\n",
       "      <td>25000</td>\n",
       "      <td>cv-library.co.uk</td>\n",
       "    </tr>\n",
       "    <tr>\n",
       "      <th>1</th>\n",
       "      <td>12612830</td>\n",
       "      <td>Stress Engineer Glasgow</td>\n",
       "      <td>Stress Engineer Glasgow Salary **** to **** We...</td>\n",
       "      <td>Glasgow, Scotland, Scotland</td>\n",
       "      <td>Glasgow</td>\n",
       "      <td>NaN</td>\n",
       "      <td>permanent</td>\n",
       "      <td>Gregory Martin International</td>\n",
       "      <td>Engineering Jobs</td>\n",
       "      <td>25000 - 35000/annum 25-35K</td>\n",
       "      <td>30000</td>\n",
       "      <td>cv-library.co.uk</td>\n",
       "    </tr>\n",
       "    <tr>\n",
       "      <th>2</th>\n",
       "      <td>12612844</td>\n",
       "      <td>Modelling and simulation analyst</td>\n",
       "      <td>Mathematical Modeller / Simulation Analyst / O...</td>\n",
       "      <td>Hampshire, South East, South East</td>\n",
       "      <td>Hampshire</td>\n",
       "      <td>NaN</td>\n",
       "      <td>permanent</td>\n",
       "      <td>Gregory Martin International</td>\n",
       "      <td>Engineering Jobs</td>\n",
       "      <td>20000 - 40000/annum 20-40K</td>\n",
       "      <td>30000</td>\n",
       "      <td>cv-library.co.uk</td>\n",
       "    </tr>\n",
       "    <tr>\n",
       "      <th>3</th>\n",
       "      <td>12613049</td>\n",
       "      <td>Engineering Systems Analyst / Mathematical Mod...</td>\n",
       "      <td>Engineering Systems Analyst / Mathematical Mod...</td>\n",
       "      <td>Surrey, South East, South East</td>\n",
       "      <td>Surrey</td>\n",
       "      <td>NaN</td>\n",
       "      <td>permanent</td>\n",
       "      <td>Gregory Martin International</td>\n",
       "      <td>Engineering Jobs</td>\n",
       "      <td>25000 - 30000/annum 25K-30K negotiable</td>\n",
       "      <td>27500</td>\n",
       "      <td>cv-library.co.uk</td>\n",
       "    </tr>\n",
       "    <tr>\n",
       "      <th>4</th>\n",
       "      <td>12613647</td>\n",
       "      <td>Pioneer, Miser Engineering Systems Analyst</td>\n",
       "      <td>Pioneer, Miser  Engineering Systems Analyst Do...</td>\n",
       "      <td>Surrey, South East, South East</td>\n",
       "      <td>Surrey</td>\n",
       "      <td>NaN</td>\n",
       "      <td>permanent</td>\n",
       "      <td>Gregory Martin International</td>\n",
       "      <td>Engineering Jobs</td>\n",
       "      <td>20000 - 30000/annum 20-30K</td>\n",
       "      <td>25000</td>\n",
       "      <td>cv-library.co.uk</td>\n",
       "    </tr>\n",
       "  </tbody>\n",
       "</table>\n",
       "</div>"
      ],
      "text/plain": [
       "         Id                                              Title  \\\n",
       "0  12612628                        Engineering Systems Analyst   \n",
       "1  12612830                            Stress Engineer Glasgow   \n",
       "2  12612844                   Modelling and simulation analyst   \n",
       "3  12613049  Engineering Systems Analyst / Mathematical Mod...   \n",
       "4  12613647         Pioneer, Miser Engineering Systems Analyst   \n",
       "\n",
       "                                     FullDescription  \\\n",
       "0  Engineering Systems Analyst Dorking Surrey Sal...   \n",
       "1  Stress Engineer Glasgow Salary **** to **** We...   \n",
       "2  Mathematical Modeller / Simulation Analyst / O...   \n",
       "3  Engineering Systems Analyst / Mathematical Mod...   \n",
       "4  Pioneer, Miser  Engineering Systems Analyst Do...   \n",
       "\n",
       "                         LocationRaw LocationNormalized ContractType  \\\n",
       "0            Dorking, Surrey, Surrey            Dorking          NaN   \n",
       "1        Glasgow, Scotland, Scotland            Glasgow          NaN   \n",
       "2  Hampshire, South East, South East          Hampshire          NaN   \n",
       "3     Surrey, South East, South East             Surrey          NaN   \n",
       "4     Surrey, South East, South East             Surrey          NaN   \n",
       "\n",
       "  ContractTime                       Company          Category  \\\n",
       "0    permanent  Gregory Martin International  Engineering Jobs   \n",
       "1    permanent  Gregory Martin International  Engineering Jobs   \n",
       "2    permanent  Gregory Martin International  Engineering Jobs   \n",
       "3    permanent  Gregory Martin International  Engineering Jobs   \n",
       "4    permanent  Gregory Martin International  Engineering Jobs   \n",
       "\n",
       "                                SalaryRaw  SalaryNormalized        SourceName  \n",
       "0              20000 - 30000/annum 20-30K             25000  cv-library.co.uk  \n",
       "1              25000 - 35000/annum 25-35K             30000  cv-library.co.uk  \n",
       "2              20000 - 40000/annum 20-40K             30000  cv-library.co.uk  \n",
       "3  25000 - 30000/annum 25K-30K negotiable             27500  cv-library.co.uk  \n",
       "4              20000 - 30000/annum 20-30K             25000  cv-library.co.uk  "
      ]
     },
     "execution_count": 4,
     "metadata": {},
     "output_type": "execute_result"
    }
   ],
   "source": [
    "train_df.head()"
   ]
  },
  {
   "cell_type": "code",
   "execution_count": 8,
   "id": "81d35aa6",
   "metadata": {},
   "outputs": [
    {
     "data": {
      "text/plain": [
       "2630"
      ]
     },
     "execution_count": 8,
     "metadata": {},
     "output_type": "execute_result"
    }
   ],
   "source": [
    "train_df['FullDescription'].duplicated().sum()"
   ]
  },
  {
   "cell_type": "code",
   "execution_count": 11,
   "id": "34fba3c8",
   "metadata": {},
   "outputs": [],
   "source": [
    "train_df_small = train_df.sample(n = int(train_df.shape[0]*0.1))"
   ]
  },
  {
   "cell_type": "code",
   "execution_count": 18,
   "id": "18d1b486",
   "metadata": {},
   "outputs": [
    {
     "data": {
      "text/html": [
       "<div>\n",
       "<style scoped>\n",
       "    .dataframe tbody tr th:only-of-type {\n",
       "        vertical-align: middle;\n",
       "    }\n",
       "\n",
       "    .dataframe tbody tr th {\n",
       "        vertical-align: top;\n",
       "    }\n",
       "\n",
       "    .dataframe thead th {\n",
       "        text-align: right;\n",
       "    }\n",
       "</style>\n",
       "<table border=\"1\" class=\"dataframe\">\n",
       "  <thead>\n",
       "    <tr style=\"text-align: right;\">\n",
       "      <th></th>\n",
       "      <th>Id</th>\n",
       "      <th>Title</th>\n",
       "      <th>FullDescription</th>\n",
       "      <th>LocationRaw</th>\n",
       "      <th>LocationNormalized</th>\n",
       "      <th>ContractType</th>\n",
       "      <th>ContractTime</th>\n",
       "      <th>Company</th>\n",
       "      <th>Category</th>\n",
       "      <th>SalaryRaw</th>\n",
       "      <th>SalaryNormalized</th>\n",
       "      <th>SourceName</th>\n",
       "    </tr>\n",
       "  </thead>\n",
       "  <tbody>\n",
       "    <tr>\n",
       "      <th>95834</th>\n",
       "      <td>69221187</td>\n",
       "      <td>School Administrator</td>\n",
       "      <td>ITN Mark Education would like to welcome a CMI...</td>\n",
       "      <td>BIRMINGHAM</td>\n",
       "      <td>Birmingham</td>\n",
       "      <td>full_time</td>\n",
       "      <td>permanent</td>\n",
       "      <td>ITN Mark Education Birmingham</td>\n",
       "      <td>Teaching Jobs</td>\n",
       "      <td>From 225 to 365 per week</td>\n",
       "      <td>14160</td>\n",
       "      <td>fish4.co.uk</td>\n",
       "    </tr>\n",
       "    <tr>\n",
       "      <th>116028</th>\n",
       "      <td>69776885</td>\n",
       "      <td>Lead C I Engineer  Helensburgh</td>\n",
       "      <td>Mott MacDonald is a global management, enginee...</td>\n",
       "      <td>Glasgow, Central Scotland</td>\n",
       "      <td>UK</td>\n",
       "      <td>NaN</td>\n",
       "      <td>permanent</td>\n",
       "      <td>Mott MacDonald Oil, Gas Petrochemicals</td>\n",
       "      <td>Engineering Jobs</td>\n",
       "      <td>28000 - 45000/annum</td>\n",
       "      <td>36500</td>\n",
       "      <td>cv-library.co.uk</td>\n",
       "    </tr>\n",
       "    <tr>\n",
       "      <th>142481</th>\n",
       "      <td>70602651</td>\n",
       "      <td>Optical Assistant</td>\n",
       "      <td>The Company: An independent, family owned opti...</td>\n",
       "      <td>Lancashire, England, Lancashire</td>\n",
       "      <td>Lancashire</td>\n",
       "      <td>NaN</td>\n",
       "      <td>NaN</td>\n",
       "      <td>Healthline Optical Recruitment</td>\n",
       "      <td>Healthcare &amp; Nursing Jobs</td>\n",
       "      <td>12000 - 13000 per annum + holidays&lt;</td>\n",
       "      <td>12500</td>\n",
       "      <td>jobs.opticianonline.net</td>\n",
       "    </tr>\n",
       "  </tbody>\n",
       "</table>\n",
       "</div>"
      ],
      "text/plain": [
       "              Id                           Title  \\\n",
       "95834   69221187            School Administrator   \n",
       "116028  69776885  Lead C I Engineer  Helensburgh   \n",
       "142481  70602651               Optical Assistant   \n",
       "\n",
       "                                          FullDescription  \\\n",
       "95834   ITN Mark Education would like to welcome a CMI...   \n",
       "116028  Mott MacDonald is a global management, enginee...   \n",
       "142481  The Company: An independent, family owned opti...   \n",
       "\n",
       "                            LocationRaw LocationNormalized ContractType  \\\n",
       "95834                        BIRMINGHAM         Birmingham    full_time   \n",
       "116028        Glasgow, Central Scotland                 UK          NaN   \n",
       "142481  Lancashire, England, Lancashire         Lancashire          NaN   \n",
       "\n",
       "       ContractTime                                 Company  \\\n",
       "95834     permanent           ITN Mark Education Birmingham   \n",
       "116028    permanent  Mott MacDonald Oil, Gas Petrochemicals   \n",
       "142481          NaN          Healthline Optical Recruitment   \n",
       "\n",
       "                         Category                            SalaryRaw  \\\n",
       "95834               Teaching Jobs             From 225 to 365 per week   \n",
       "116028           Engineering Jobs                  28000 - 45000/annum   \n",
       "142481  Healthcare & Nursing Jobs  12000 - 13000 per annum + holidays<   \n",
       "\n",
       "        SalaryNormalized               SourceName  \n",
       "95834              14160              fish4.co.uk  \n",
       "116028             36500         cv-library.co.uk  \n",
       "142481             12500  jobs.opticianonline.net  "
      ]
     },
     "execution_count": 18,
     "metadata": {},
     "output_type": "execute_result"
    }
   ],
   "source": [
    "train_df_small.head(3)"
   ]
  },
  {
   "cell_type": "code",
   "execution_count": 13,
   "id": "8ee5dc4c",
   "metadata": {},
   "outputs": [],
   "source": [
    "X_train, y_train = train_df_small['FullDescription'], train_df_small['SalaryNormalized']"
   ]
  },
  {
   "cell_type": "code",
   "execution_count": 17,
   "id": "df99959a",
   "metadata": {},
   "outputs": [
    {
     "data": {
      "text/plain": [
       "('ITN Mark Education would like to welcome a CMIS Administrator to apply for this vacancy in the Saltley area of Birmingham. This school was Deemed ?Good? in its last Ofsted. The headteacher is a leader of great vision and energy who has led the school very successfully in the huge improvement it has made in the last two years. She is strongly supported by a leadership team which shares the head teacher?s very high expectations and together they provide excellent leadership and management. The school provides exceptional care and support for all pupils and families and is an integral part of the local community. Nearly all pupils including those with special educational needs, make good progress, so that most reach the standards expected in English and Mathematics by the end of year **** Pupils behave well in lessons and around the school. Successful Administrators will hold the following essential attributes:  An excellent working knowledge of CMIS systems  A working knowledge of HL Portal  training can be given  Answering the telephone  Dealing with dinner monies  Banking  Meeting and Greeting Parents, students alike  Dealing with front desk queries  General administration and office duties  Completing IEP forms  High level of written and oral communication skills are essential Benefits of working through ITN Mark Education:  Working as part of a lovely team  Enjoying working in a lovely environment  Competitive rates of pay  Excellent support  Wonderful facilities As DfE Quality Mark holders, ITN Mark Education requires all candidates to have a fully enhanced CRB check, minimum of two references plus a face to face interview. If you are interested in applying for this role please contact Kerry Tuohy on [contact details removed]or send your current CV to [contact details removed] Mark Education is an Equal Opportunities Employer. ITN Mark Education is acting as an Employment Business in relation to this vacancy.',\n",
       " 14160)"
      ]
     },
     "execution_count": 17,
     "metadata": {},
     "output_type": "execute_result"
    }
   ],
   "source": [
    "X_train.iloc[0], y_train.iloc[0]"
   ]
  },
  {
   "cell_type": "code",
   "execution_count": 31,
   "id": "0f0f0991",
   "metadata": {},
   "outputs": [
    {
     "data": {
      "image/png": "[encoded data removed]",
      "text/plain": [
       "<Figure size 640x480 with 1 Axes>"
      ]
     },
     "metadata": {},
     "output_type": "display_data"
    }
   ],
   "source": [
    "ax = sns.histplot(y_train, kde=True)"
   ]
  },
  {
   "cell_type": "code",
   "execution_count": 32,
   "id": "472c0131",
   "metadata": {},
   "outputs": [
    {
     "data": {
      "image/png": "[encoded data removed]",
      "text/plain": [
       "<Figure size 640x480 with 1 Axes>"
      ]
     },
     "metadata": {},
     "output_type": "display_data"
    }
   ],
   "source": [
    "ax = sns.histplot(np.log(y_train), kde=True)"
   ]
  },
  {
   "cell_type": "code",
   "execution_count": 33,
   "id": "455e3ab5",
   "metadata": {},
   "outputs": [],
   "source": [
    "val_df = pd.read_csv('data/Valid_rev1.csv')"
   ]
  },
  {
   "cell_type": "code",
   "execution_count": 34,
   "id": "85d62a92",
   "metadata": {},
   "outputs": [
    {
     "data": {
      "text/html": [
       "<div>\n",
       "<style scoped>\n",
       "    .dataframe tbody tr th:only-of-type {\n",
       "        vertical-align: middle;\n",
       "    }\n",
       "\n",
       "    .dataframe tbody tr th {\n",
       "        vertical-align: top;\n",
       "    }\n",
       "\n",
       "    .dataframe thead th {\n",
       "        text-align: right;\n",
       "    }\n",
       "</style>\n",
       "<table border=\"1\" class=\"dataframe\">\n",
       "  <thead>\n",
       "    <tr style=\"text-align: right;\">\n",
       "      <th></th>\n",
       "      <th>Id</th>\n",
       "      <th>Title</th>\n",
       "      <th>FullDescription</th>\n",
       "      <th>LocationRaw</th>\n",
       "      <th>LocationNormalized</th>\n",
       "      <th>ContractType</th>\n",
       "      <th>ContractTime</th>\n",
       "      <th>Company</th>\n",
       "      <th>Category</th>\n",
       "      <th>SourceName</th>\n",
       "    </tr>\n",
       "  </thead>\n",
       "  <tbody>\n",
       "    <tr>\n",
       "      <th>0</th>\n",
       "      <td>13656201</td>\n",
       "      <td>Lead Technical Architect, C  Banking</td>\n",
       "      <td>Lead Technical Architect required for a Tier *...</td>\n",
       "      <td>London</td>\n",
       "      <td>London</td>\n",
       "      <td>NaN</td>\n",
       "      <td>permanent</td>\n",
       "      <td>Scope AT Limited</td>\n",
       "      <td>IT Jobs</td>\n",
       "      <td>jobserve.com</td>\n",
       "    </tr>\n",
       "    <tr>\n",
       "      <th>1</th>\n",
       "      <td>14663195</td>\n",
       "      <td>RECRUITMENT CONSULTANT  INDUSTRIAL / COMMERCIA...</td>\n",
       "      <td>THIS IS A LIVE VACANCY NOT A GENERIC ADVERTISE...</td>\n",
       "      <td>LEEDS, West Yorkshire</td>\n",
       "      <td>Leeds</td>\n",
       "      <td>NaN</td>\n",
       "      <td>permanent</td>\n",
       "      <td>Code Blue Recruitment</td>\n",
       "      <td>HR &amp; Recruitment Jobs</td>\n",
       "      <td>cv-library.co.uk</td>\n",
       "    </tr>\n",
       "    <tr>\n",
       "      <th>2</th>\n",
       "      <td>16530664</td>\n",
       "      <td>Mechanical / Chemical / Process Engineer  Cool...</td>\n",
       "      <td>Mechanical / Chemical / Process Engineer  Cool...</td>\n",
       "      <td>Hampshire, South East</td>\n",
       "      <td>Hampshire</td>\n",
       "      <td>NaN</td>\n",
       "      <td>permanent</td>\n",
       "      <td>Gregory Martin International</td>\n",
       "      <td>Engineering Jobs</td>\n",
       "      <td>cv-library.co.uk</td>\n",
       "    </tr>\n",
       "    <tr>\n",
       "      <th>3</th>\n",
       "      <td>19047458</td>\n",
       "      <td>Trainee Mortgage Advisor  West Midlands</td>\n",
       "      <td>Are you a successful, results driven person? A...</td>\n",
       "      <td>West Midlands</td>\n",
       "      <td>West Midlands</td>\n",
       "      <td>NaN</td>\n",
       "      <td>permanent</td>\n",
       "      <td>Brite Recruitment</td>\n",
       "      <td>Accounting &amp; Finance Jobs</td>\n",
       "      <td>cv-library.co.uk</td>\n",
       "    </tr>\n",
       "    <tr>\n",
       "      <th>4</th>\n",
       "      <td>20881907</td>\n",
       "      <td>Mortgage Services Consultant  East Midlands</td>\n",
       "      <td>Are you a successful, results driven person? D...</td>\n",
       "      <td>East Midlands</td>\n",
       "      <td>East Midlands</td>\n",
       "      <td>NaN</td>\n",
       "      <td>permanent</td>\n",
       "      <td>Brite Recruitment</td>\n",
       "      <td>Accounting &amp; Finance Jobs</td>\n",
       "      <td>cv-library.co.uk</td>\n",
       "    </tr>\n",
       "  </tbody>\n",
       "</table>\n",
       "</div>"
      ],
      "text/plain": [
       "         Id                                              Title  \\\n",
       "0  13656201               Lead Technical Architect, C  Banking   \n",
       "1  14663195  RECRUITMENT CONSULTANT  INDUSTRIAL / COMMERCIA...   \n",
       "2  16530664  Mechanical / Chemical / Process Engineer  Cool...   \n",
       "3  19047458            Trainee Mortgage Advisor  West Midlands   \n",
       "4  20881907        Mortgage Services Consultant  East Midlands   \n",
       "\n",
       "                                     FullDescription            LocationRaw  \\\n",
       "0  Lead Technical Architect required for a Tier *...                 London   \n",
       "1  THIS IS A LIVE VACANCY NOT A GENERIC ADVERTISE...  LEEDS, West Yorkshire   \n",
       "2  Mechanical / Chemical / Process Engineer  Cool...  Hampshire, South East   \n",
       "3  Are you a successful, results driven person? A...          West Midlands   \n",
       "4  Are you a successful, results driven person? D...          East Midlands   \n",
       "\n",
       "  LocationNormalized ContractType ContractTime                       Company  \\\n",
       "0             London          NaN    permanent              Scope AT Limited   \n",
       "1              Leeds          NaN    permanent         Code Blue Recruitment   \n",
       "2          Hampshire          NaN    permanent  Gregory Martin International   \n",
       "3      West Midlands          NaN    permanent             Brite Recruitment   \n",
       "4      East Midlands          NaN    permanent             Brite Recruitment   \n",
       "\n",
       "                    Category        SourceName  \n",
       "0                    IT Jobs      jobserve.com  \n",
       "1      HR & Recruitment Jobs  cv-library.co.uk  \n",
       "2           Engineering Jobs  cv-library.co.uk  \n",
       "3  Accounting & Finance Jobs  cv-library.co.uk  \n",
       "4  Accounting & Finance Jobs  cv-library.co.uk  "
      ]
     },
     "execution_count": 34,
     "metadata": {},
     "output_type": "execute_result"
    }
   ],
   "source": [
    "val_df.head()"
   ]
  },
  {
   "cell_type": "code",
   "execution_count": null,
   "id": "a8228daf",
   "metadata": {},
   "outputs": [],
   "source": []
  }
 ],
 "metadata": {
  "kernelspec": {
   "display_name": "Python 3 (ipykernel)",
   "language": "python",
   "name": "python3"
  },
  "language_info": {
   "codemirror_mode": {
    "name": "ipython",
    "version": 3
   },
   "file_extension": ".py",
   "mimetype": "text/x-python",
   "name": "python",
   "nbconvert_exporter": "python",
   "pygments_lexer": "ipython3",
   "version": "3.9.13"
  }
 },
 "nbformat": 4,
 "nbformat_minor": 5
}
