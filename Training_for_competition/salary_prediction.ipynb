{
 "cells": [
  {
   "cell_type": "code",
   "execution_count": 9,
   "id": "5a3e0d36",
   "metadata": {},
   "outputs": [],
   "source": [
    "# BAZA\n",
    "import numpy as np\n",
    "import pandas as pd\n",
    "import matplotlib.pyplot as plt\n",
    "from argparse import Namespace\n",
    "from collections import Counter\n",
    "import string\n",
    "# OSNOVA\n",
    "from torch.utils.data import Dataset, DataLoader"
   ]
  },
  {
   "cell_type": "code",
   "execution_count": 6,
   "id": "677d5c89",
   "metadata": {},
   "outputs": [],
   "source": [
    "class Vocabulary(object):\n",
    "    def __init__(self, token_to_idx=None):\n",
    "        self._token_to_idx = dict()\n",
    "        if token_to_idx is not None:\n",
    "            self._token_to_idx = token_to_idx\n",
    "        self._idx_to_token = {\n",
    "            index: token\n",
    "            for token, index in self._token_to_idx\n",
    "        }\n",
    "    \n",
    "    def add_token(self, token):\n",
    "        if token in self._token_to_idx:\n",
    "            index = self._token_to_idx[token]\n",
    "        else:\n",
    "            index = len(self._token_to_idx)\n",
    "            self._token_to_idx[token] = index\n",
    "            self._idx_to_token[index] = token\n",
    "        return index\n",
    "    \n",
    "    def lookup_token(self, token):\n",
    "        if token in self._token_to_idx:\n",
    "            return self._token_to_idx[token]\n",
    "        raise KeyError(f\"Token {token} is not in Vocabulary\")\n",
    "   \n",
    "    def lookup_index(self, index):\n",
    "        if index in self._idx_to_token:\n",
    "            return self._idx_to_token[index]\n",
    "        raise KeyError(f\"No token with index {index} in Vocabulary\")        \n",
    "        \n",
    "    def __len__(self):\n",
    "        return len(self._token_to_idx)"
   ]
  },
  {
   "cell_type": "code",
   "execution_count": 7,
   "id": "77bd6330",
   "metadata": {},
   "outputs": [],
   "source": [
    "class SequenceVocabulary(Vocabulary):\n",
    "    def __init__(self, token_to_idx=None, \n",
    "                 mask_token=\"<MSK>\", unk_token=\"<UNK>\",\n",
    "                 begin_token=\"<BGN>\", end_token=\"<END>\"\n",
    "                ):\n",
    "        super(SequenceVocabulary, self).__init__(token_to_idx)\n",
    "        \n",
    "        self._mask_token = mask_token\n",
    "        self._unk_token = unk_token\n",
    "        self._begin_token = begin_token\n",
    "        self._end_token = end_token\n",
    "        \n",
    "        self.mask_index = self.add_token(self._mask_token)\n",
    "        self.unk_index = self.add_token(self._unk_token)\n",
    "        self.begin_index = self.add_token(self._begin_token)\n",
    "        self.end_index = self.add_token(self._end_token)"
   ]
  },
  {
   "cell_type": "code",
   "execution_count": null,
   "id": "27e5812f",
   "metadata": {},
   "outputs": [],
   "source": [
    "class Vectorizer(object):\n",
    "    def __init__(self, vocab=None):\n",
    "        self.vocab = vocab\n",
    "        \n",
    "    @classmethod\n",
    "    def from_dataframe(cls, df, cutoff=10):\n",
    "        vocab = SequenceVocabulary()\n",
    "        \n",
    "        tokens_counter = Counter()\n",
    "        for text in df.text:\n",
    "            for token in text.split(\" \"):\n",
    "                tokens_counter[token] += 1\n",
    "                \n",
    "        for token, count in tokens_counter.items():\n",
    "            if count >= cutoff:\n",
    "                vocab.add_token(token)\n",
    "        \n",
    "        return cls(vocab)\n",
    "    \n",
    "    def vectorize(self, description, vector_length=-1):\n",
    "        # tokens\n",
    "        indices = [self.vocab.begin_index]\n",
    "        for token in description.split(\" \"):\n",
    "            indices.append(self.vocab.lookup_token(token))\n",
    "        indices.append(self.vocab.end_index)\n",
    "        # filling\n",
    "        if vector_length < 0:\n",
    "            vector_length = len(indices)\n",
    "        out_vector = np.zeros(vector_length, dtype=np.int64)\n",
    "        out_vector[:len(indices)] = indices\n",
    "        out_vector[len(indices):] = self.vocab.mask_index\n",
    "        return out_vector"
   ]
  },
  {
   "cell_type": "code",
   "execution_count": null,
   "id": "ecb9a3cb",
   "metadata": {},
   "outputs": [],
   "source": []
  }
 ],
 "metadata": {
  "kernelspec": {
   "display_name": "Python 3 (ipykernel)",
   "language": "python",
   "name": "python3"
  },
  "language_info": {
   "codemirror_mode": {
    "name": "ipython",
    "version": 3
   },
   "file_extension": ".py",
   "mimetype": "text/x-python",
   "name": "python",
   "nbconvert_exporter": "python",
   "pygments_lexer": "ipython3",
   "version": "3.9.13"
  }
 },
 "nbformat": 4,
 "nbformat_minor": 5
}
