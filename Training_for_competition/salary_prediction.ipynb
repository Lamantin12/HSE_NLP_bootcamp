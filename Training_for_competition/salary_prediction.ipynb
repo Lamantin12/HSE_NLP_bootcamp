{
 "cells": [
  {
   "cell_type": "code",
   "execution_count": 31,
   "id": "cbd94265",
   "metadata": {},
   "outputs": [],
   "source": [
    "# BAZA\n",
    "import numpy as np\n",
    "import pandas as pd\n",
    "import matplotlib.pyplot as plt\n",
    "from IPython.display import clear_output\n",
    "from argparse import Namespace\n",
    "from collections import Counter\n",
    "import string\n",
    "import os\n",
    "# OSNOVA\n",
    "import torch\n",
    "import torch.nn as nn\n",
    "import torch.nn.functional as F\n",
    "import torch.optim as opt\n",
    "from torch.utils.data import Dataset, DataLoader\n",
    "from tqdm.notebook import tqdm"
   ]
  },
  {
   "cell_type": "markdown",
   "id": "c41a5fa1",
   "metadata": {},
   "source": [
    "# Used Classes"
   ]
  },
  {
   "cell_type": "code",
   "execution_count": 2,
   "id": "cc6b10f2",
   "metadata": {},
   "outputs": [],
   "source": [
    "class Vocabulary(object):\n",
    "    def __init__(self, token_to_idx=None):\n",
    "        self._token_to_idx = dict()\n",
    "        if token_to_idx is not None:\n",
    "            self._token_to_idx = token_to_idx\n",
    "        self._idx_to_token = {\n",
    "            index: token\n",
    "            for token, index in self._token_to_idx\n",
    "        }\n",
    "    \n",
    "    def add_token(self, token):\n",
    "        if token in self._token_to_idx:\n",
    "            index = self._token_to_idx[token]\n",
    "        else:\n",
    "            index = len(self._token_to_idx)\n",
    "            self._token_to_idx[token] = index\n",
    "            self._idx_to_token[index] = token\n",
    "        return index\n",
    "    \n",
    "    def lookup_token(self, token):\n",
    "        if token in self._token_to_idx:\n",
    "            return self._token_to_idx[token]\n",
    "        raise KeyError(f\"Token {token} is not in Vocabulary\")\n",
    "   \n",
    "    def lookup_index(self, index):\n",
    "        if index in self._idx_to_token:\n",
    "            return self._idx_to_token[index]\n",
    "        raise KeyError(f\"No token with index {index} in Vocabulary\")        \n",
    "        \n",
    "    def __len__(self):\n",
    "        return len(self._token_to_idx)"
   ]
  },
  {
   "cell_type": "code",
   "execution_count": 3,
   "id": "fb143a0d",
   "metadata": {},
   "outputs": [],
   "source": [
    "class SequenceVocabulary(Vocabulary):\n",
    "    def __init__(self, token_to_idx=None, \n",
    "                 mask_token=\"<MSK>\", unk_token=\"<UNK>\",\n",
    "                 begin_token=\"<BGN>\", end_token=\"<END>\"\n",
    "                ):\n",
    "        super(SequenceVocabulary, self).__init__(token_to_idx)\n",
    "        \n",
    "        self._mask_token = mask_token\n",
    "        self._unk_token = unk_token\n",
    "        self._begin_token = begin_token\n",
    "        self._end_token = end_token\n",
    "        \n",
    "        self.mask_index = self.add_token(self._mask_token)\n",
    "        self.unk_index = self.add_token(self._unk_token)\n",
    "        self.begin_index = self.add_token(self._begin_token)\n",
    "        self.end_index = self.add_token(self._end_token)"
   ]
  },
  {
   "cell_type": "code",
   "execution_count": 4,
   "id": "69b64cc1",
   "metadata": {},
   "outputs": [],
   "source": [
    "class Vectorizer(object):\n",
    "    def __init__(self, vocab=None):\n",
    "        self.vocab = vocab\n",
    "        \n",
    "    @classmethod\n",
    "    def from_dataframe(cls, df, cutoff=10):\n",
    "        vocab = SequenceVocabulary()\n",
    "        \n",
    "        tokens_counter = Counter()\n",
    "        for text in df.text:\n",
    "            for token in text.split(\" \"):\n",
    "                tokens_counter[token] += 1\n",
    "                \n",
    "        for token, count in tokens_counter.items():\n",
    "            if count >= cutoff:\n",
    "                vocab.add_token(token)\n",
    "        \n",
    "        return cls(vocab)\n",
    "    \n",
    "    def vectorize(self, description, vector_length=-1):\n",
    "        # tokens\n",
    "        indices = [self.vocab.begin_index]\n",
    "        for token in description.split(\" \"):\n",
    "            indices.append(self.vocab.lookup_token(token))\n",
    "        indices.append(self.vocab.end_index)\n",
    "        # filling\n",
    "        if vector_length < 0:\n",
    "            vector_length = len(indices)\n",
    "        out_vector = np.zeros(vector_length, dtype=np.int64)\n",
    "        out_vector[:len(indices)] = indices\n",
    "        out_vector[len(indices):] = self.vocab.mask_index\n",
    "        return out_vector"
   ]
  },
  {
   "cell_type": "code",
   "execution_count": 13,
   "id": "06da214a",
   "metadata": {},
   "outputs": [],
   "source": [
    "class JobsDataset(Dataset):\n",
    "    def __init__(self, data, vectorizer):\n",
    "        self.data = data\n",
    "        self._vectorizer = vectorizer\n",
    "        \n",
    "        get_length = lambda text: len(text.split(\" \"))\n",
    "        \n",
    "        self._max_length = max(self.data.text.apply(get_length)) + 2 \n",
    "    \n",
    "    def __getitem__(self, index):\n",
    "        x_data = self.vectorizer.vectorize(self.data.text.iloc[index], self._max_length)\n",
    "        y_target = self.data.target.iloc[index]\n",
    "        return {\n",
    "            'x_data': x_data,\n",
    "            'y_target': y_target\n",
    "        }\n",
    "    \n",
    "    def __len__(self):\n",
    "        return len(self.data)\n",
    "    \n",
    "    def get_num_batches(self, batch_size):\n",
    "        return len(self) // batch_size\n",
    "    \n",
    "    @classmethod\n",
    "    def load_dataset_and_make_vectorizer(cls, df_path):\n",
    "        df = pd.read_csv(df_path)\n",
    "        vectorizer = Vectorizer.from_dataframe(df)\n",
    "        return cls(df, vectorizer)"
   ]
  },
  {
   "cell_type": "code",
   "execution_count": 6,
   "id": "d38cb4fc",
   "metadata": {},
   "outputs": [],
   "source": [
    "def seed_everywhere(seed):\n",
    "    random.seed(seed)\n",
    "    os.environ[\"PYTHONHASHSEED\"] = str(seed)\n",
    "    np.random.seed(seed)\n",
    "    torch.manual_seed(seed)\n",
    "    torch.cuda.manual_seed(seed)\n",
    "    torch.backends.cudnn.deterministic = True"
   ]
  },
  {
   "cell_type": "code",
   "execution_count": 7,
   "id": "4ea43f6c",
   "metadata": {},
   "outputs": [],
   "source": [
    "def generate_batches(dataset, batch_size, shuffle=True, device=\"cpu\"):\n",
    "    dataloader = DataLoader(dataset=dataset, batch_size=batch_size, shuffle=shuffle)\n",
    "    for data_dict in dataloader:\n",
    "        out_dict = dict()\n",
    "        for name, data in data_dict.items():\n",
    "            out_dict[name] = data_dict[name].to(device)\n",
    "        yield out_dict"
   ]
  },
  {
   "cell_type": "code",
   "execution_count": 33,
   "id": "2be95bb1",
   "metadata": {},
   "outputs": [],
   "source": [
    "args = Namespace(\n",
    "    #dirs\n",
    "    train_data_path = 'data/preprocessed_data_train.csv',\n",
    "    val_data_path = 'data/preprocessed_data_val.csv',\n",
    "    model_filepath='data/model_storage/model.pth',\n",
    "    #model hyper params\n",
    "    seed = 1,\n",
    "    dropout_p = 0.2,\n",
    "    embedding_size = 100,\n",
    "    hidden_size = 200,\n",
    "    batch_size = 128,\n",
    "    num_epochs = 100,\n",
    "    learning_rate=0.001,\n",
    "    early_stopping_criteria=5,\n",
    "    #utils\n",
    "    use_cuda = True,\n",
    ")\n",
    "\n",
    "train_state = {\n",
    "    'stop_early': False,\n",
    "    'early_stopping_step': 0,\n",
    "    'early_stopping_best_val': 1e8,\n",
    "    'learning_rate': args.learning_rate,\n",
    "    'epoch_index': 0,\n",
    "    'train_loss': [],\n",
    "    'val_loss': [],\n",
    "    'test_loss': -1,\n",
    "    'model_filename': args.model_filepath,\n",
    "}\n",
    "\n",
    "def update_train_state(args, model, train_state):\n",
    "    if train_state['epoch_index'] == 0:\n",
    "        torch.save(model.state_dict(), train_state['model_filename'])\n",
    "        print(f\"Saving model on {train_state['epoch_index']} epoch\")\n",
    "        train_state['stop_early'] = False\n",
    "    elif train_state['epoch_index'] >= 1:\n",
    "        loss_t = train_state['val_loss'][-1]\n",
    "        \n",
    "        if loss_t >= train_state['early_stopping_best_val']:\n",
    "            train_state['early_stopping_step'] += 1\n",
    "        else:\n",
    "            if loss_t < train_state['early_stopping_best_val']:\n",
    "                torch.save(model.state_dict(), train_state['model_filename'])\n",
    "                print(f\"Saving model on {train_state['epoch_index']} epoch\")\n",
    "            train_state['early_stopping_step'] = 0\n",
    "        train_state['stop_early'] = train_state['early_stopping_step'] >= args.early_stopping_criteria\n",
    "    return train_state"
   ]
  },
  {
   "cell_type": "code",
   "execution_count": 34,
   "id": "14e6f3e4",
   "metadata": {},
   "outputs": [],
   "source": [
    "class SalaryPredictor(nn.Module):\n",
    "    def __init__(self, embedding_size, num_embeddings, hidden_size, dropout_p, padding_idx):\n",
    "        super(SalaryPredictor, self).__init__()\n",
    "        \n",
    "        self.emb = nn.Embedding(\n",
    "            num_embeddings=num_embeddings,\n",
    "            embedding_dim=embedding_size,\n",
    "            padding_idx=padding_idx,\n",
    "        )\n",
    "        self.convert = nn.Sequential(\n",
    "            nn.Linear(in_features=embedding_size, out_features=hidden_size),\n",
    "            nn.ELU(),\n",
    "            nn.Linear(in_features=hidden_size, out_features=hidden_size),\n",
    "            nn.ELU(),\n",
    "            nn.Linear(in_features=hidden_size, out_features=hidden_size),\n",
    "            nn.ELU(),\n",
    "            nn.Linear(in_features=hidden_size, out_features=hidden_size),\n",
    "            nn.ELU(),\n",
    "        )\n",
    "        self._dropout_p = dropout_p\n",
    "        self.lin1 = nn.Linear(in_features=hidden_size, out_features=int(hidden_size / 2))\n",
    "        self.lin2 = nn.Linear(in_features=int(hidden_size / 2), out_features=1)\n",
    "    \n",
    "    def forward(self, x_in):\n",
    "        x_embedded = self.emb(x_in)\n",
    "        x_out = self.convert(x_embedded)\n",
    "        x_out = F.dropout(features, p=self._dropout_p)\n",
    "        x_out = F.relu(F.dropout(self.lin1(x_out), p=self._dropout_p))\n",
    "        x_out = self.lin2(x_out)\n",
    "        \n",
    "        return x_out"
   ]
  },
  {
   "cell_type": "code",
   "execution_count": 35,
   "id": "5ed4abef",
   "metadata": {},
   "outputs": [
    {
     "name": "stdout",
     "output_type": "stream",
     "text": [
      "USE CUDA -> False\n"
     ]
    }
   ],
   "source": [
    "# cuda setting\n",
    "if not torch.cuda.is_available():\n",
    "    args.use_cuda = False\n",
    "    \n",
    "args.device = torch.device(\"cuda\" if args.use_cuda else \"cpu\")\n",
    "print(f\"USE CUDA -> {args.use_cuda}\")"
   ]
  },
  {
   "cell_type": "code",
   "execution_count": 36,
   "id": "995596fe",
   "metadata": {},
   "outputs": [],
   "source": [
    "# dataset and classifier preparing\n",
    "\n",
    "train_dataset = JobsDataset.load_dataset_and_make_vectorizer(args.train_data_path)\n",
    "vectorizer = train_dataset._vectorizer\n",
    "val_dataset = JobsDataset(pd.read_csv(args.val_data_path), vectorizer)\n",
    "\n",
    "model = SalaryPredictor(\n",
    "    embedding_size=args.embedding_size, \n",
    "    num_embeddings=len(vectorizer.vocab),\n",
    "    hidden_size=args.hidden_size,\n",
    "    dropout_p=args.dropout_p,\n",
    "    padding_idx=0\n",
    ")"
   ]
  },
  {
   "cell_type": "code",
   "execution_count": 37,
   "id": "ba648879",
   "metadata": {},
   "outputs": [],
   "source": [
    "max_length = max(train_dataset._max_length, val_dataset._max_length)\n",
    "train_dataset._max_length = max_length\n",
    "val_dataset._max_length = max_length"
   ]
  },
  {
   "cell_type": "code",
   "execution_count": 38,
   "id": "20ab3e37",
   "metadata": {},
   "outputs": [
    {
     "name": "stdout",
     "output_type": "stream",
     "text": [
      "SalaryPredictor(\n",
      "  (emb): Embedding(6915, 100, padding_idx=0)\n",
      "  (convert): Sequential(\n",
      "    (0): Linear(in_features=100, out_features=200, bias=True)\n",
      "    (1): ELU(alpha=1.0)\n",
      "    (2): Linear(in_features=200, out_features=200, bias=True)\n",
      "    (3): ELU(alpha=1.0)\n",
      "    (4): Linear(in_features=200, out_features=200, bias=True)\n",
      "    (5): ELU(alpha=1.0)\n",
      "    (6): Linear(in_features=200, out_features=200, bias=True)\n",
      "    (7): ELU(alpha=1.0)\n",
      "  )\n",
      "  (lin1): Linear(in_features=200, out_features=100, bias=True)\n",
      "  (lin2): Linear(in_features=100, out_features=1, bias=True)\n",
      ")\n"
     ]
    }
   ],
   "source": [
    "print(model)"
   ]
  },
  {
   "cell_type": "code",
   "execution_count": 32,
   "id": "f5deb014",
   "metadata": {},
   "outputs": [
    {
     "data": {
      "application/vnd.jupyter.widget-view+json": {
       "model_id": "756f408b9f464636af9d36ae0b4b1bd1",
       "version_major": 2,
       "version_minor": 0
      },
      "text/plain": [
       "epoch:   0%|          | 0/100 [00:00<?, ?it/s]"
      ]
     },
     "metadata": {},
     "output_type": "display_data"
    },
    {
     "data": {
      "application/vnd.jupyter.widget-view+json": {
       "model_id": "27d9bfdea3b44763822785c600270ae4",
       "version_major": 2,
       "version_minor": 0
      },
      "text/plain": [
       "train:   0%|          | 0/152 [00:00<?, ?it/s]"
      ]
     },
     "metadata": {},
     "output_type": "display_data"
    },
    {
     "data": {
      "application/vnd.jupyter.widget-view+json": {
       "model_id": "39a2dbb9d19047a3a4ddc81ceafe313d",
       "version_major": 2,
       "version_minor": 0
      },
      "text/plain": [
       "val:   0%|          | 0/38 [00:00<?, ?it/s]"
      ]
     },
     "metadata": {},
     "output_type": "display_data"
    },
    {
     "data": {
      "image/png": "[encoded data removed]",
      "text/plain": [
       "<Figure size 1500x1500 with 2 Axes>"
      ]
     },
     "metadata": {},
     "output_type": "display_data"
    }
   ],
   "source": [
    "model = model.to(args.device)\n",
    "loss = nn.MSELoss()\n",
    "optimizer = opt.Adam(params=model.parameters(), lr=args.learning_rate)\n",
    "scheduler = opt.lr_scheduler.ReduceLROnPlateau(optimizer=optimizer, mode='min', factor=0.5, patience=1)\n",
    "\n",
    "epoch_bar = tqdm(desc=\"epoch\", total=args.num_epochs, position=0)\n",
    "train_bar = tqdm(desc=\"train\", total=train_dataset.get_num_batches(args.batch_size), position=1, leave=True)\n",
    "val_bar = tqdm(desc=\"val\", total=val_dataset.get_num_batches(args.batch_size), position=1, leave=True)\n",
    "\n",
    "fig, ax = plt.subplots(1, 2, figsize=(15,15))\n",
    "\n",
    "try:\n",
    "    for epoch_index in range(args.num_epochs):\n",
    "        train_state['epoch_index'] = epoch_index\n",
    "        # train\n",
    "        batch_generator = generate_batches(dataset, args.batch_size device=args.device)\n",
    "        \n",
    "        \n",
    "        \n",
    "except KeyboardInterrupt:\n",
    "    print(\"KeyboardInterrupt\")"
   ]
  },
  {
   "cell_type": "code",
   "execution_count": null,
   "id": "b32af26f",
   "metadata": {},
   "outputs": [],
   "source": []
  }
 ],
 "metadata": {
  "kernelspec": {
   "display_name": "Python 3 (ipykernel)",
   "language": "python",
   "name": "python3"
  },
  "language_info": {
   "codemirror_mode": {
    "name": "ipython",
    "version": 3
   },
   "file_extension": ".py",
   "mimetype": "text/x-python",
   "name": "python",
   "nbconvert_exporter": "python",
   "pygments_lexer": "ipython3",
   "version": "3.9.13"
  }
 },
 "nbformat": 4,
 "nbformat_minor": 5
}
