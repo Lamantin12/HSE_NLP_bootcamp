{
 "cells": [
  {
   "cell_type": "code",
   "execution_count": 63,
   "id": "01a9e71d",
   "metadata": {},
   "outputs": [],
   "source": [
    "import numpy as np\n",
    "import pandas as pd\n",
    "import matplotlib.pyplot as plt\n",
    "import seaborn as sns\n",
    "import re\n",
    "from nltk.corpus import stopwords\n",
    "from nltk.stem.snowball import SnowballStemmer\n",
    "from tqdm.notebook import tqdm\n",
    "\n",
    "from pymorphy2 import MorphAnalyzer\n",
    "\n",
    "# BAZA\n",
    "import numpy as np\n",
    "import pandas as pd\n",
    "import matplotlib.pyplot as plt\n",
    "from IPython.display import clear_output, display\n",
    "from argparse import Namespace\n",
    "from collections import Counter\n",
    "import string\n",
    "import os\n",
    "# OSNOVA\n",
    "import torch\n",
    "import torch.nn as nn\n",
    "import torch.nn.functional as F\n",
    "import torch.optim as opt\n",
    "from torch.utils.data import Dataset, DataLoader\n",
    "from tqdm.notebook import tqdm\n",
    "from torchmetrics.functional import r2_score\n",
    "from sklearn.model_selection import train_test_split\n",
    "import fasttext\n",
    "import fasttext.util\n",
    "import random\n",
    "from catboost import CatBoostRegressor\n",
    "from catboost.metrics import R2\n",
    "from catboost import Pool\n",
    "\n",
    "seed = 1000"
   ]
  },
  {
   "cell_type": "code",
   "execution_count": 39,
   "id": "f1b82ae8",
   "metadata": {},
   "outputs": [],
   "source": [
    "train_df = pd.read_csv('data/vacancies_train.csv')\n",
    "test_df = pd.read_csv('data/vacancies_test.csv')"
   ]
  },
  {
   "cell_type": "code",
   "execution_count": 40,
   "id": "2f026ac2",
   "metadata": {},
   "outputs": [],
   "source": [
    "cleaned_train = pd.read_csv('data/preprocessed_data_train.csv')\n",
    "cleaned_test = pd.read_csv('data/preprocessed_data_test.csv')"
   ]
  },
  {
   "cell_type": "code",
   "execution_count": 41,
   "id": "210b0315",
   "metadata": {},
   "outputs": [],
   "source": [
    "additional_train = pd.read_csv(\"data/additional_features_train.csv\")\n",
    "additional_test = pd.read_csv(\"data/additional_features_test.csv\")"
   ]
  },
  {
   "cell_type": "code",
   "execution_count": 42,
   "id": "3ab2bfa8",
   "metadata": {},
   "outputs": [],
   "source": [
    "fasttext_transformed_sentences_train = pd.read_csv(\"data/fasttext_train.csv\")\n",
    "fasttext_transformed_sentences_test = pd.read_csv(\"data/fasttext_test.csv\")"
   ]
  },
  {
   "cell_type": "code",
   "execution_count": 51,
   "id": "31461d81",
   "metadata": {},
   "outputs": [],
   "source": [
    "def seed_everywhere(seed=1000):\n",
    "    random.seed(seed)\n",
    "    os.environ[\"PYTHONHASHSEED\"] = str(seed)\n",
    "    np.random.seed(seed)\n",
    "    torch.manual_seed(seed)\n",
    "    torch.cuda.manual_seed(seed)\n",
    "    torch.backends.cudnn.deterministic = True"
   ]
  },
  {
   "cell_type": "code",
   "execution_count": 52,
   "id": "2c0874c2",
   "metadata": {},
   "outputs": [],
   "source": [
    "seed_everywhere(seed)"
   ]
  },
  {
   "cell_type": "code",
   "execution_count": 53,
   "id": "aae90c84",
   "metadata": {},
   "outputs": [
    {
     "data": {
      "text/plain": [
       "0"
      ]
     },
     "execution_count": 53,
     "metadata": {},
     "output_type": "execute_result"
    }
   ],
   "source": [
    "additional_train = additional_train[train_df.duplicated() == False]\n",
    "cleaned_train = cleaned_train[train_df.duplicated() == False]\n",
    "fasttext_transformed_sentences_train = fasttext_transformed_sentences_train[train_df.duplicated() == False]\n",
    "train_df = train_df[train_df.duplicated() == False]\n",
    "\n",
    "additional_train = additional_train.reset_index(drop=True)\n",
    "cleaned_train = cleaned_train.reset_index(drop=True)\n",
    "fasttext_transformed_sentences_train = fasttext_transformed_sentences_train.reset_index(drop=True)\n",
    "train_df = train_df.reset_index(drop=True)\n",
    "\n",
    "train_df.duplicated().sum()"
   ]
  },
  {
   "cell_type": "code",
   "execution_count": 54,
   "id": "34c8046c",
   "metadata": {},
   "outputs": [],
   "source": [
    "additional_train = additional_train.drop(train_df.query(\"salary < 100\").index)\n",
    "cleaned_train = cleaned_train.drop(train_df.query(\"salary < 100\").index)\n",
    "fasttext_transformed_sentences_train = fasttext_transformed_sentences_train.drop(train_df.query(\"salary < 100\").index)\n",
    "train_df = train_df.drop(train_df.query(\"salary < 100\").index)"
   ]
  },
  {
   "cell_type": "code",
   "execution_count": 55,
   "id": "bebead24",
   "metadata": {},
   "outputs": [],
   "source": [
    "additional_train = additional_train.reset_index(drop=True)\n",
    "cleaned_train = cleaned_train.reset_index(drop=True)\n",
    "fasttext_transformed_sentences_train = fasttext_transformed_sentences_train.reset_index(drop=True)\n",
    "train_df = train_df.reset_index(drop=True)"
   ]
  },
  {
   "cell_type": "code",
   "execution_count": 56,
   "id": "8e4df0e6",
   "metadata": {},
   "outputs": [],
   "source": [
    "cat_features = [\"experience\", \"schedule\", \"employment\"]"
   ]
  },
  {
   "cell_type": "code",
   "execution_count": 59,
   "id": "85d6414a",
   "metadata": {},
   "outputs": [],
   "source": [
    "train_df['cleaned'] = cleaned_train.text\n",
    "test_df['cleaned'] = cleaned_test.text"
   ]
  },
  {
   "cell_type": "code",
   "execution_count": 60,
   "id": "6a903b4a",
   "metadata": {},
   "outputs": [
    {
     "data": {
      "text/html": [
       "<div>\n",
       "<style scoped>\n",
       "    .dataframe tbody tr th:only-of-type {\n",
       "        vertical-align: middle;\n",
       "    }\n",
       "\n",
       "    .dataframe tbody tr th {\n",
       "        vertical-align: top;\n",
       "    }\n",
       "\n",
       "    .dataframe thead th {\n",
       "        text-align: right;\n",
       "    }\n",
       "</style>\n",
       "<table border=\"1\" class=\"dataframe\">\n",
       "  <thead>\n",
       "    <tr style=\"text-align: right;\">\n",
       "      <th></th>\n",
       "      <th>name</th>\n",
       "      <th>experience</th>\n",
       "      <th>schedule</th>\n",
       "      <th>employment</th>\n",
       "      <th>description</th>\n",
       "      <th>key_skills</th>\n",
       "      <th>salary</th>\n",
       "      <th>cleaned</th>\n",
       "    </tr>\n",
       "  </thead>\n",
       "  <tbody>\n",
       "    <tr>\n",
       "      <th>0</th>\n",
       "      <td>Водитель-экспедитор</td>\n",
       "      <td>От 3 до 6 лет</td>\n",
       "      <td>Полный день</td>\n",
       "      <td>Полная занятость</td>\n",
       "      <td>Водитель-экспедитор категории В,С (а\\м ГАЗЕЛЬ ...</td>\n",
       "      <td>[]</td>\n",
       "      <td>42500.0</td>\n",
       "      <td>водитель экспедитор категория м газель тент га...</td>\n",
       "    </tr>\n",
       "    <tr>\n",
       "      <th>1</th>\n",
       "      <td>Кладовщик-комплектовщик/оператор 1С</td>\n",
       "      <td>От 1 года до 3 лет</td>\n",
       "      <td>Полный день</td>\n",
       "      <td>Полная занятость</td>\n",
       "      <td>Обязанности:   Списывание материалов в произво...</td>\n",
       "      <td>['знание пк', 'работа в 1С', 'Работа в команде...</td>\n",
       "      <td>50000.0</td>\n",
       "      <td>обязанность списывание материал производство п...</td>\n",
       "    </tr>\n",
       "    <tr>\n",
       "      <th>2</th>\n",
       "      <td>Продавец магазина \"Магнит\" (Кировский р-он, В....</td>\n",
       "      <td>Нет опыта</td>\n",
       "      <td>Сменный график</td>\n",
       "      <td>Полная занятость</td>\n",
       "      <td>В крупнейшую Федеральную сеть магазинов \"Магни...</td>\n",
       "      <td>[]</td>\n",
       "      <td>31500.0</td>\n",
       "      <td>крупный федеральный сеть магазин магнит требов...</td>\n",
       "    </tr>\n",
       "    <tr>\n",
       "      <th>3</th>\n",
       "      <td>Администратор магазина (ТЦ Spar)</td>\n",
       "      <td>От 1 года до 3 лет</td>\n",
       "      <td>Полный день</td>\n",
       "      <td>Полная занятость</td>\n",
       "      <td>Крупная федеральная сеть магазинов мужской и ж...</td>\n",
       "      <td>[]</td>\n",
       "      <td>36700.0</td>\n",
       "      <td>крупный федеральный сеть магазин мужской женск...</td>\n",
       "    </tr>\n",
       "    <tr>\n",
       "      <th>4</th>\n",
       "      <td>Мойщик посуды (кулинария)</td>\n",
       "      <td>Нет опыта</td>\n",
       "      <td>Сменный график</td>\n",
       "      <td>Полная занятость</td>\n",
       "      <td>Обязанности:  Уборка производственных площадей...</td>\n",
       "      <td>['Пользователь ПК', 'Грамотная речь', 'Работа ...</td>\n",
       "      <td>37000.0</td>\n",
       "      <td>обязанность уборка производственный площадь ку...</td>\n",
       "    </tr>\n",
       "    <tr>\n",
       "      <th>...</th>\n",
       "      <td>...</td>\n",
       "      <td>...</td>\n",
       "      <td>...</td>\n",
       "      <td>...</td>\n",
       "      <td>...</td>\n",
       "      <td>...</td>\n",
       "      <td>...</td>\n",
       "      <td>...</td>\n",
       "    </tr>\n",
       "    <tr>\n",
       "      <th>16311</th>\n",
       "      <td>Полицейский специального полка полиции</td>\n",
       "      <td>Нет опыта</td>\n",
       "      <td>Полный день</td>\n",
       "      <td>Полная занятость</td>\n",
       "      <td>Обязанности:   обеспечение общественного поряд...</td>\n",
       "      <td>['Грамотная речь', 'Обучение и развитие', 'Упр...</td>\n",
       "      <td>67500.0</td>\n",
       "      <td>обязанность обеспечение общественный порядок о...</td>\n",
       "    </tr>\n",
       "    <tr>\n",
       "      <th>16312</th>\n",
       "      <td>Врач стоматолог-ортопед (г. Новосибирск)</td>\n",
       "      <td>Нет опыта</td>\n",
       "      <td>Полный день</td>\n",
       "      <td>Полная занятость</td>\n",
       "      <td>Обязанности:  Оказывает квалифицированную меди...</td>\n",
       "      <td>['Медицинская документация']</td>\n",
       "      <td>50000.0</td>\n",
       "      <td>обязанность оказывать квалифицировать медицинс...</td>\n",
       "    </tr>\n",
       "    <tr>\n",
       "      <th>16313</th>\n",
       "      <td>Фармацевт</td>\n",
       "      <td>От 1 года до 3 лет</td>\n",
       "      <td>Полный день</td>\n",
       "      <td>Полная занятость</td>\n",
       "      <td>Условия:  официальное оформление по ТК РФ; гра...</td>\n",
       "      <td>['Пользователь ПК', 'Работа в команде', 'Грамо...</td>\n",
       "      <td>50000.0</td>\n",
       "      <td>условие официальный оформление тк рф график ра...</td>\n",
       "    </tr>\n",
       "    <tr>\n",
       "      <th>16314</th>\n",
       "      <td>Геодезист (автодороги)</td>\n",
       "      <td>От 1 года до 3 лет</td>\n",
       "      <td>Вахтовый метод</td>\n",
       "      <td>Полная занятость</td>\n",
       "      <td>Обязанности:  своевременное и качественное вып...</td>\n",
       "      <td>[]</td>\n",
       "      <td>75000.0</td>\n",
       "      <td>обязанность своевременный качественный выполне...</td>\n",
       "    </tr>\n",
       "    <tr>\n",
       "      <th>16315</th>\n",
       "      <td>Специалист-эксперт отдела правового обеспечения</td>\n",
       "      <td>Нет опыта</td>\n",
       "      <td>Полный день</td>\n",
       "      <td>Полная занятость</td>\n",
       "      <td>Обязанности:  правовое сопровождение деятельно...</td>\n",
       "      <td>['Грамотная речь', 'Пользователь ПК', 'Умение ...</td>\n",
       "      <td>25000.0</td>\n",
       "      <td>обязанность правовой сопровождение деятельност...</td>\n",
       "    </tr>\n",
       "  </tbody>\n",
       "</table>\n",
       "<p>16316 rows × 8 columns</p>\n",
       "</div>"
      ],
      "text/plain": [
       "                                                    name          experience  \\\n",
       "0                                    Водитель-экспедитор       От 3 до 6 лет   \n",
       "1                    Кладовщик-комплектовщик/оператор 1С  От 1 года до 3 лет   \n",
       "2      Продавец магазина \"Магнит\" (Кировский р-он, В....           Нет опыта   \n",
       "3                       Администратор магазина (ТЦ Spar)  От 1 года до 3 лет   \n",
       "4                              Мойщик посуды (кулинария)           Нет опыта   \n",
       "...                                                  ...                 ...   \n",
       "16311             Полицейский специального полка полиции           Нет опыта   \n",
       "16312           Врач стоматолог-ортопед (г. Новосибирск)           Нет опыта   \n",
       "16313                                          Фармацевт  От 1 года до 3 лет   \n",
       "16314                             Геодезист (автодороги)  От 1 года до 3 лет   \n",
       "16315    Специалист-эксперт отдела правового обеспечения           Нет опыта   \n",
       "\n",
       "             schedule        employment  \\\n",
       "0         Полный день  Полная занятость   \n",
       "1         Полный день  Полная занятость   \n",
       "2      Сменный график  Полная занятость   \n",
       "3         Полный день  Полная занятость   \n",
       "4      Сменный график  Полная занятость   \n",
       "...               ...               ...   \n",
       "16311     Полный день  Полная занятость   \n",
       "16312     Полный день  Полная занятость   \n",
       "16313     Полный день  Полная занятость   \n",
       "16314  Вахтовый метод  Полная занятость   \n",
       "16315     Полный день  Полная занятость   \n",
       "\n",
       "                                             description  \\\n",
       "0      Водитель-экспедитор категории В,С (а\\м ГАЗЕЛЬ ...   \n",
       "1      Обязанности:   Списывание материалов в произво...   \n",
       "2      В крупнейшую Федеральную сеть магазинов \"Магни...   \n",
       "3      Крупная федеральная сеть магазинов мужской и ж...   \n",
       "4      Обязанности:  Уборка производственных площадей...   \n",
       "...                                                  ...   \n",
       "16311  Обязанности:   обеспечение общественного поряд...   \n",
       "16312  Обязанности:  Оказывает квалифицированную меди...   \n",
       "16313  Условия:  официальное оформление по ТК РФ; гра...   \n",
       "16314  Обязанности:  своевременное и качественное вып...   \n",
       "16315  Обязанности:  правовое сопровождение деятельно...   \n",
       "\n",
       "                                              key_skills   salary  \\\n",
       "0                                                     []  42500.0   \n",
       "1      ['знание пк', 'работа в 1С', 'Работа в команде...  50000.0   \n",
       "2                                                     []  31500.0   \n",
       "3                                                     []  36700.0   \n",
       "4      ['Пользователь ПК', 'Грамотная речь', 'Работа ...  37000.0   \n",
       "...                                                  ...      ...   \n",
       "16311  ['Грамотная речь', 'Обучение и развитие', 'Упр...  67500.0   \n",
       "16312                       ['Медицинская документация']  50000.0   \n",
       "16313  ['Пользователь ПК', 'Работа в команде', 'Грамо...  50000.0   \n",
       "16314                                                 []  75000.0   \n",
       "16315  ['Грамотная речь', 'Пользователь ПК', 'Умение ...  25000.0   \n",
       "\n",
       "                                                 cleaned  \n",
       "0      водитель экспедитор категория м газель тент га...  \n",
       "1      обязанность списывание материал производство п...  \n",
       "2      крупный федеральный сеть магазин магнит требов...  \n",
       "3      крупный федеральный сеть магазин мужской женск...  \n",
       "4      обязанность уборка производственный площадь ку...  \n",
       "...                                                  ...  \n",
       "16311  обязанность обеспечение общественный порядок о...  \n",
       "16312  обязанность оказывать квалифицировать медицинс...  \n",
       "16313  условие официальный оформление тк рф график ра...  \n",
       "16314  обязанность своевременный качественный выполне...  \n",
       "16315  обязанность правовой сопровождение деятельност...  \n",
       "\n",
       "[16316 rows x 8 columns]"
      ]
     },
     "execution_count": 60,
     "metadata": {},
     "output_type": "execute_result"
    }
   ],
   "source": [
    "train_df"
   ]
  },
  {
   "cell_type": "code",
   "execution_count": 61,
   "id": "2be7145a",
   "metadata": {},
   "outputs": [],
   "source": [
    "X_train, X_valid, y_train, y_valid = train_test_split(\n",
    "    train_df.drop(['salary', 'key_skills', \"description\"], axis=1),\n",
    "    additional_train.salary_log,\n",
    "    train_size=0.8,\n",
    "    random_state=seed\n",
    ")"
   ]
  },
  {
   "cell_type": "code",
   "execution_count": 64,
   "id": "372c9416",
   "metadata": {},
   "outputs": [],
   "source": [
    "train_pool = Pool(\n",
    "    data=X_train,\n",
    "    label=y_train,\n",
    "    text_features=['cleaned', \"name\"],\n",
    "    cat_features=cat_features\n",
    ")\n",
    "\n",
    "valid_pool = Pool(\n",
    "    data=X_valid, \n",
    "    label=y_valid,\n",
    "    text_features=['cleaned', 'name'],\n",
    "    cat_features=cat_features\n",
    ")"
   ]
  },
  {
   "cell_type": "markdown",
   "id": "18159d34",
   "metadata": {},
   "source": [
    "*Параметры были получены с помощью Optuna*"
   ]
  },
  {
   "cell_type": "code",
   "execution_count": null,
   "id": "a12e4810",
   "metadata": {},
   "outputs": [],
   "source": [
    "cat1 = CatBoostRegressor(\n",
    "    iterations=5000,\n",
    "    eval_metric='R2',\n",
    "    **{'learning_rate': 0.06087680848049949,\n",
    "        'bootstrap_type': 'Bayesian',\n",
    "        'boosting_type': 'Plain',\n",
    "        'l2_leaf_reg': 3.5,\n",
    "        'bagging_temperature': 0.5944142566635626},\n",
    "\n",
    "    tokenizers=[\n",
    "        {\n",
    "            'tokenizer_id': 'Sense',\n",
    "            'separator_type': 'BySense',\n",
    "            'lowercasing': 'True',\n",
    "            'token_types':['Word', 'Number', 'SentenceBreak'],\n",
    "            'sub_tokens_policy':'SeveralTokens'\n",
    "        }      \n",
    "    ],\n",
    "    dictionaries = [\n",
    "        {\n",
    "            'dictionary_id': 'Word',\n",
    "            'max_dictionary_size': '50000'\n",
    "        }\n",
    "    ],\n",
    "    feature_calcers = [\n",
    "        'BoW:top_tokens_count=5000'\n",
    "    ],\n",
    "    random_seed=seed,\n",
    "    task_type=\"GPU\",\n",
    "    devices='0:1'\n",
    ")"
   ]
  },
  {
   "cell_type": "code",
   "execution_count": null,
   "id": "a2531f52",
   "metadata": {},
   "outputs": [],
   "source": [
    "cat1.fit(train_pool,\n",
    "        eval_set=valid_pool,\n",
    "        verbose=100,\n",
    "        use_best_model=True\n",
    ")"
   ]
  },
  {
   "cell_type": "code",
   "execution_count": null,
   "id": "c0ce6cd4",
   "metadata": {},
   "outputs": [],
   "source": [
    "cat2 = CatBoostRegressor(\n",
    "    iterations=5000,\n",
    "    eval_metric='R2',\n",
    "    **{'learning_rate': 0.06087680848049949,\n",
    "        'bootstrap_type': 'Bayesian',\n",
    "        'boosting_type': 'Plain',\n",
    "        'l2_leaf_reg': 3.5,\n",
    "        'bagging_temperature': 0.5944142566635626},\n",
    "\n",
    "    tokenizers=[\n",
    "        {\n",
    "            'tokenizer_id': 'Sense',\n",
    "            'separator_type': 'BySense',\n",
    "            'lowercasing': 'True',\n",
    "            'token_types':['Word', 'Number', 'SentenceBreak'],\n",
    "            'sub_tokens_policy':'SeveralTokens'\n",
    "        }      \n",
    "    ],\n",
    "    dictionaries = [\n",
    "        {\n",
    "            'dictionary_id': 'Word',\n",
    "            'max_dictionary_size': '50000'\n",
    "        }\n",
    "    ],\n",
    "    feature_calcers = [\n",
    "        'BoW:top_tokens_count=10000'\n",
    "    ],\n",
    "    random_seed=seed,\n",
    "    task_type=\"GPU\",\n",
    "    devices='0:1'\n",
    ")"
   ]
  },
  {
   "cell_type": "code",
   "execution_count": null,
   "id": "aae80b45",
   "metadata": {},
   "outputs": [],
   "source": [
    "cat2.fit(train_pool,\n",
    "        eval_set=valid_pool,\n",
    "        verbose=100,\n",
    "        use_best_model=True\n",
    ")"
   ]
  },
  {
   "cell_type": "code",
   "execution_count": null,
   "id": "b4aad122",
   "metadata": {},
   "outputs": [],
   "source": [
    "def get_catboost_prediction(model, test_df):\n",
    "    test_pool = Pool(\n",
    "        data=test_df.drop(['id', 'description', 'key_skills'], axis=1),\n",
    "        label=None,\n",
    "        text_features=['cleaned', 'name'],\n",
    "        cat_features=cat_features\n",
    "    )\n",
    "    result = model.predict(test_pool)\n",
    "    result_df = pd.concat([test_df.id, pd.Series(result)], axis=1)\n",
    "    result_df.columns = ['id', 'salary']\n",
    "    result_df.salary = np.exp(result_df.salary)\n",
    "    return result_df"
   ]
  },
  {
   "cell_type": "code",
   "execution_count": null,
   "id": "e8f49521",
   "metadata": {},
   "outputs": [],
   "source": [
    "result_1 = get_catboost_prediction(cat1, test_df)\n",
    "result_1.to_csv(\"/kaggle/working/prediction_1.csv\", index=False)"
   ]
  },
  {
   "cell_type": "code",
   "execution_count": null,
   "id": "3cdcf1cd",
   "metadata": {},
   "outputs": [],
   "source": [
    "result_2 = get_catboost_prediction(cat2, test_df)\n",
    "result_2.to_csv(\"/kaggle/working/prediction_2.csv\", index=False)"
   ]
  },
  {
   "cell_type": "markdown",
   "id": "ddac633c",
   "metadata": {},
   "source": [
    "## Stacking over two catboosts"
   ]
  },
  {
   "cell_type": "code",
   "execution_count": null,
   "id": "35412a9f",
   "metadata": {},
   "outputs": [],
   "source": [
    "from sklearn.linear_model import LinearRegression"
   ]
  },
  {
   "cell_type": "code",
   "execution_count": null,
   "id": "770e3463",
   "metadata": {},
   "outputs": [],
   "source": [
    "lr_pool = Pool(\n",
    "    train_df.drop(['salary', 'key_skills', \"description\"], axis=1),\n",
    "    additional_train.salary_log,\n",
    "    text_features=['cleaned', \"name\"],\n",
    "    cat_features=cat_features\n",
    ")"
   ]
  },
  {
   "cell_type": "code",
   "execution_count": null,
   "id": "82dfbb8d",
   "metadata": {},
   "outputs": [],
   "source": [
    "lr = LinearRegression()\n",
    "X_train = pd.concat([pd.Series(cat1.predict(lr_pool)), pd.Series(cat1.predict(lr_pool))], axis=1)\n",
    "y_train = additional_train.salary_log\n",
    "lr.fit(X_train, y_train)"
   ]
  },
  {
   "cell_type": "code",
   "execution_count": null,
   "id": "40df17c2",
   "metadata": {},
   "outputs": [],
   "source": [
    "r2_score(y_train, lr.predict(X_train))"
   ]
  },
  {
   "cell_type": "code",
   "execution_count": null,
   "id": "4dd7990f",
   "metadata": {},
   "outputs": [],
   "source": [
    "result_combined = lr.predict(pd.concat([result_1.salary, result_2.salary], axis=1))\n",
    "result_combined = pd.DataFrame(result_combined)\n",
    "result_combined.columns=['salary']\n",
    "pd.concat([test_df.id, result_combined], axis=1).to_csv(\"/kaggle/working/prediction_combined.csv\", index=False)"
   ]
  },
  {
   "cell_type": "code",
   "execution_count": 65,
   "id": "325aba79",
   "metadata": {},
   "outputs": [],
   "source": [
    "# На private -> 0.51715"
   ]
  },
  {
   "cell_type": "code",
   "execution_count": null,
   "id": "d96b53ed",
   "metadata": {},
   "outputs": [],
   "source": []
  },
  {
   "cell_type": "code",
   "execution_count": null,
   "id": "35cff822",
   "metadata": {},
   "outputs": [],
   "source": []
  }
 ],
 "metadata": {
  "kernelspec": {
   "display_name": "Python 3 (ipykernel)",
   "language": "python",
   "name": "python3"
  },
  "language_info": {
   "codemirror_mode": {
    "name": "ipython",
    "version": 3
   },
   "file_extension": ".py",
   "mimetype": "text/x-python",
   "name": "python",
   "nbconvert_exporter": "python",
   "pygments_lexer": "ipython3",
   "version": "3.9.13"
  }
 },
 "nbformat": 4,
 "nbformat_minor": 5
}
