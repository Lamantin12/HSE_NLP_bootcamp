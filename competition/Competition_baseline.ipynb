{
 "cells": [
  {
   "cell_type": "markdown",
   "id": "3697fd2e",
   "metadata": {},
   "source": [
    "# BASELINE"
   ]
  },
  {
   "cell_type": "markdown",
   "id": "cc2d995a",
   "metadata": {},
   "source": [
    "## DATA CLEANING"
   ]
  },
  {
   "cell_type": "code",
   "execution_count": 67,
   "id": "ca11ea62",
   "metadata": {},
   "outputs": [],
   "source": [
    "import numpy as np\n",
    "import pandas as pd\n",
    "import matplotlib.pyplot as plt\n",
    "import seaborn as sns\n",
    "import re\n",
    "from nltk.corpus import stopwords\n",
    "from nltk.stem.snowball import SnowballStemmer\n",
    "from tqdm.notebook import tqdm\n",
    "\n",
    "from IPython.display import clear_output\n",
    "from pymorphy2 import MorphAnalyzer"
   ]
  },
  {
   "cell_type": "code",
   "execution_count": 42,
   "id": "b4a150cc",
   "metadata": {},
   "outputs": [],
   "source": [
    "train_df = pd.read_csv('data/vacancies_train.csv')\n",
    "test_df = pd.read_csv('data/vacancies_test.csv')"
   ]
  },
  {
   "cell_type": "code",
   "execution_count": 43,
   "id": "c8102d70",
   "metadata": {},
   "outputs": [
    {
     "name": "stdout",
     "output_type": "stream",
     "text": [
      "<class 'pandas.core.frame.DataFrame'>\n",
      "RangeIndex: 16629 entries, 0 to 16628\n",
      "Data columns (total 7 columns):\n",
      " #   Column       Non-Null Count  Dtype  \n",
      "---  ------       --------------  -----  \n",
      " 0   name         16629 non-null  object \n",
      " 1   experience   16629 non-null  object \n",
      " 2   schedule     16629 non-null  object \n",
      " 3   employment   16629 non-null  object \n",
      " 4   description  16629 non-null  object \n",
      " 5   key_skills   16629 non-null  object \n",
      " 6   salary       16629 non-null  float64\n",
      "dtypes: float64(1), object(6)\n",
      "memory usage: 909.5+ KB\n"
     ]
    }
   ],
   "source": [
    "train_df.info()"
   ]
  },
  {
   "cell_type": "code",
   "execution_count": 44,
   "id": "fb61d185",
   "metadata": {},
   "outputs": [
    {
     "data": {
      "text/html": [
       "<div>\n",
       "<style scoped>\n",
       "    .dataframe tbody tr th:only-of-type {\n",
       "        vertical-align: middle;\n",
       "    }\n",
       "\n",
       "    .dataframe tbody tr th {\n",
       "        vertical-align: top;\n",
       "    }\n",
       "\n",
       "    .dataframe thead th {\n",
       "        text-align: right;\n",
       "    }\n",
       "</style>\n",
       "<table border=\"1\" class=\"dataframe\">\n",
       "  <thead>\n",
       "    <tr style=\"text-align: right;\">\n",
       "      <th></th>\n",
       "      <th>name</th>\n",
       "      <th>experience</th>\n",
       "      <th>schedule</th>\n",
       "      <th>employment</th>\n",
       "      <th>description</th>\n",
       "      <th>key_skills</th>\n",
       "      <th>salary</th>\n",
       "    </tr>\n",
       "  </thead>\n",
       "  <tbody>\n",
       "    <tr>\n",
       "      <th>0</th>\n",
       "      <td>Водитель-экспедитор</td>\n",
       "      <td>От 3 до 6 лет</td>\n",
       "      <td>Полный день</td>\n",
       "      <td>Полная занятость</td>\n",
       "      <td>Водитель-экспедитор категории В,С (а\\м ГАЗЕЛЬ ...</td>\n",
       "      <td>[]</td>\n",
       "      <td>42500.0</td>\n",
       "    </tr>\n",
       "    <tr>\n",
       "      <th>1</th>\n",
       "      <td>Кладовщик-комплектовщик/оператор 1С</td>\n",
       "      <td>От 1 года до 3 лет</td>\n",
       "      <td>Полный день</td>\n",
       "      <td>Полная занятость</td>\n",
       "      <td>Обязанности:   Списывание материалов в произво...</td>\n",
       "      <td>['знание пк', 'работа в 1С', 'Работа в команде...</td>\n",
       "      <td>50000.0</td>\n",
       "    </tr>\n",
       "    <tr>\n",
       "      <th>2</th>\n",
       "      <td>Продавец магазина \"Магнит\" (Кировский р-он, В....</td>\n",
       "      <td>Нет опыта</td>\n",
       "      <td>Сменный график</td>\n",
       "      <td>Полная занятость</td>\n",
       "      <td>В крупнейшую Федеральную сеть магазинов \"Магни...</td>\n",
       "      <td>[]</td>\n",
       "      <td>31500.0</td>\n",
       "    </tr>\n",
       "    <tr>\n",
       "      <th>3</th>\n",
       "      <td>Администратор магазина (ТЦ Spar)</td>\n",
       "      <td>От 1 года до 3 лет</td>\n",
       "      <td>Полный день</td>\n",
       "      <td>Полная занятость</td>\n",
       "      <td>Крупная федеральная сеть магазинов мужской и ж...</td>\n",
       "      <td>[]</td>\n",
       "      <td>36700.0</td>\n",
       "    </tr>\n",
       "    <tr>\n",
       "      <th>4</th>\n",
       "      <td>Мойщик посуды (кулинария)</td>\n",
       "      <td>Нет опыта</td>\n",
       "      <td>Сменный график</td>\n",
       "      <td>Полная занятость</td>\n",
       "      <td>Обязанности:  Уборка производственных площадей...</td>\n",
       "      <td>['Пользователь ПК', 'Грамотная речь', 'Работа ...</td>\n",
       "      <td>37000.0</td>\n",
       "    </tr>\n",
       "  </tbody>\n",
       "</table>\n",
       "</div>"
      ],
      "text/plain": [
       "                                                name          experience  \\\n",
       "0                                Водитель-экспедитор       От 3 до 6 лет   \n",
       "1                Кладовщик-комплектовщик/оператор 1С  От 1 года до 3 лет   \n",
       "2  Продавец магазина \"Магнит\" (Кировский р-он, В....           Нет опыта   \n",
       "3                   Администратор магазина (ТЦ Spar)  От 1 года до 3 лет   \n",
       "4                          Мойщик посуды (кулинария)           Нет опыта   \n",
       "\n",
       "         schedule        employment  \\\n",
       "0     Полный день  Полная занятость   \n",
       "1     Полный день  Полная занятость   \n",
       "2  Сменный график  Полная занятость   \n",
       "3     Полный день  Полная занятость   \n",
       "4  Сменный график  Полная занятость   \n",
       "\n",
       "                                         description  \\\n",
       "0  Водитель-экспедитор категории В,С (а\\м ГАЗЕЛЬ ...   \n",
       "1  Обязанности:   Списывание материалов в произво...   \n",
       "2  В крупнейшую Федеральную сеть магазинов \"Магни...   \n",
       "3  Крупная федеральная сеть магазинов мужской и ж...   \n",
       "4  Обязанности:  Уборка производственных площадей...   \n",
       "\n",
       "                                          key_skills   salary  \n",
       "0                                                 []  42500.0  \n",
       "1  ['знание пк', 'работа в 1С', 'Работа в команде...  50000.0  \n",
       "2                                                 []  31500.0  \n",
       "3                                                 []  36700.0  \n",
       "4  ['Пользователь ПК', 'Грамотная речь', 'Работа ...  37000.0  "
      ]
     },
     "execution_count": 44,
     "metadata": {},
     "output_type": "execute_result"
    }
   ],
   "source": [
    "train_df.head()"
   ]
  },
  {
   "cell_type": "code",
   "execution_count": 45,
   "id": "4afa6bc3",
   "metadata": {},
   "outputs": [
    {
     "data": {
      "text/plain": [
       "308"
      ]
     },
     "execution_count": 45,
     "metadata": {},
     "output_type": "execute_result"
    }
   ],
   "source": [
    "train_df.duplicated().sum()"
   ]
  },
  {
   "cell_type": "markdown",
   "id": "af820de9",
   "metadata": {},
   "source": [
    "# TODO: EDA"
   ]
  },
  {
   "cell_type": "code",
   "execution_count": 46,
   "id": "dfd068ad",
   "metadata": {},
   "outputs": [],
   "source": [
    "X_train, y_train = train_df['description'], train_df['salary']"
   ]
  },
  {
   "cell_type": "code",
   "execution_count": 47,
   "id": "859f3eea",
   "metadata": {},
   "outputs": [
    {
     "data": {
      "image/png": "[encoded data removed]",
      "text/plain": [
       "<Figure size 640x480 with 1 Axes>"
      ]
     },
     "metadata": {},
     "output_type": "display_data"
    }
   ],
   "source": [
    "ax = sns.histplot(y_train, kde=True)"
   ]
  },
  {
   "cell_type": "code",
   "execution_count": 48,
   "id": "c1e5217c",
   "metadata": {},
   "outputs": [
    {
     "data": {
      "image/png": "[encoded data removed]",
      "text/plain": [
       "<Figure size 640x480 with 1 Axes>"
      ]
     },
     "metadata": {},
     "output_type": "display_data"
    }
   ],
   "source": [
    "ax = sns.histplot(np.log(y_train), kde=True)\n",
    "ax.set_xlabel(\"LOG(SalaryNormalized)\")\n",
    "None"
   ]
  },
  {
   "cell_type": "code",
   "execution_count": 49,
   "id": "6a64b690",
   "metadata": {},
   "outputs": [
    {
     "data": {
      "image/png": "[encoded data removed]",
      "text/plain": [
       "<Figure size 640x480 with 1 Axes>"
      ]
     },
     "metadata": {},
     "output_type": "display_data"
    }
   ],
   "source": [
    "ax = sns.boxenplot(y_train, x=y_train)"
   ]
  },
  {
   "cell_type": "code",
   "execution_count": 50,
   "id": "55b5909c",
   "metadata": {},
   "outputs": [
    {
     "data": {
      "image/png": "[encoded data removed]",
      "text/plain": [
       "<Figure size 640x480 with 1 Axes>"
      ]
     },
     "metadata": {},
     "output_type": "display_data"
    }
   ],
   "source": [
    "ax = sns.boxenplot(y_train, x=np.log(y_train))\n",
    "ax.set_xlabel(\"LOG(SalaryNormalized)\")\n",
    "None"
   ]
  },
  {
   "cell_type": "markdown",
   "id": "33f32cce",
   "metadata": {},
   "source": [
    "#### X_train"
   ]
  },
  {
   "cell_type": "code",
   "execution_count": 51,
   "id": "e3b7ece0",
   "metadata": {},
   "outputs": [],
   "source": [
    "sw = stopwords.words('russian')\n",
    "morph = MorphAnalyzer()\n",
    "\n",
    "def preprocess_text(text):\n",
    "    text = text.lower()\n",
    "    #print(1, text)\n",
    "    text = re.sub(r\"([.,!?])\", r\" \\1 \", text) # giving all punctuation signs a space \n",
    "    #print(2, text)\n",
    "    text = re.sub(r\"[^а-яёА-ЯЁ+#]+\", r\" \", text) # deleteng all elements that are not letters or signs\n",
    "    #print(3, text)\n",
    "    text = \" \".join([morph.normal_forms(token)[0] for token in text.split(\" \") if (token not in sw)])\n",
    "    #print(4, text)\n",
    "    return text"
   ]
  },
  {
   "cell_type": "code",
   "execution_count": 52,
   "id": "1d90dec5",
   "metadata": {},
   "outputs": [
    {
     "data": {
      "application/vnd.jupyter.widget-view+json": {
       "model_id": "2c38879870b34547bb45fd560c567685",
       "version_major": 2,
       "version_minor": 0
      },
      "text/plain": [
       "  0%|          | 0/16629 [00:00<?, ?it/s]"
      ]
     },
     "metadata": {},
     "output_type": "display_data"
    },
    {
     "ename": "KeyboardInterrupt",
     "evalue": "",
     "output_type": "error",
     "traceback": [
      "\u001b[1;31m---------------------------------------------------------------------------\u001b[0m",
      "\u001b[1;31mKeyboardInterrupt\u001b[0m                         Traceback (most recent call last)",
      "Cell \u001b[1;32mIn[52], line 4\u001b[0m\n\u001b[0;32m      2\u001b[0m X_train_preprocessed \u001b[38;5;241m=\u001b[39m []\n\u001b[0;32m      3\u001b[0m \u001b[38;5;28;01mfor\u001b[39;00m i \u001b[38;5;129;01min\u001b[39;00m \u001b[38;5;28mrange\u001b[39m(X_train\u001b[38;5;241m.\u001b[39mshape[\u001b[38;5;241m0\u001b[39m]):\n\u001b[1;32m----> 4\u001b[0m     X_train_preprocessed\u001b[38;5;241m.\u001b[39mappend(\u001b[43mpreprocess_text\u001b[49m\u001b[43m(\u001b[49m\u001b[43mX_train\u001b[49m\u001b[38;5;241;43m.\u001b[39;49m\u001b[43miloc\u001b[49m\u001b[43m[\u001b[49m\u001b[43mi\u001b[49m\u001b[43m]\u001b[49m\u001b[43m)\u001b[49m)\n\u001b[0;32m      5\u001b[0m     bar\u001b[38;5;241m.\u001b[39mupdate()\n\u001b[0;32m      6\u001b[0m X_train_preprocessed \u001b[38;5;241m=\u001b[39m pd\u001b[38;5;241m.\u001b[39mDataFrame(X_train_preprocessed)\n",
      "Cell \u001b[1;32mIn[51], line 11\u001b[0m, in \u001b[0;36mpreprocess_text\u001b[1;34m(text)\u001b[0m\n\u001b[0;32m      9\u001b[0m text \u001b[38;5;241m=\u001b[39m re\u001b[38;5;241m.\u001b[39msub(\u001b[38;5;124mr\u001b[39m\u001b[38;5;124m\"\u001b[39m\u001b[38;5;124m[^а-яёА-ЯЁ+#]+\u001b[39m\u001b[38;5;124m\"\u001b[39m, \u001b[38;5;124mr\u001b[39m\u001b[38;5;124m\"\u001b[39m\u001b[38;5;124m \u001b[39m\u001b[38;5;124m\"\u001b[39m, text) \u001b[38;5;66;03m# deleteng all elements that are not letters or signs\u001b[39;00m\n\u001b[0;32m     10\u001b[0m \u001b[38;5;66;03m#print(3, text)\u001b[39;00m\n\u001b[1;32m---> 11\u001b[0m text \u001b[38;5;241m=\u001b[39m \u001b[38;5;124m\"\u001b[39m\u001b[38;5;124m \u001b[39m\u001b[38;5;124m\"\u001b[39m\u001b[38;5;241m.\u001b[39mjoin([morph\u001b[38;5;241m.\u001b[39mnormal_forms(token)[\u001b[38;5;241m0\u001b[39m] \u001b[38;5;28;01mfor\u001b[39;00m token \u001b[38;5;129;01min\u001b[39;00m text\u001b[38;5;241m.\u001b[39msplit(\u001b[38;5;124m\"\u001b[39m\u001b[38;5;124m \u001b[39m\u001b[38;5;124m\"\u001b[39m) \u001b[38;5;28;01mif\u001b[39;00m (token \u001b[38;5;129;01mnot\u001b[39;00m \u001b[38;5;129;01min\u001b[39;00m sw)])\n\u001b[0;32m     12\u001b[0m \u001b[38;5;66;03m#print(4, text)\u001b[39;00m\n\u001b[0;32m     13\u001b[0m \u001b[38;5;28;01mreturn\u001b[39;00m text\n",
      "Cell \u001b[1;32mIn[51], line 11\u001b[0m, in \u001b[0;36m<listcomp>\u001b[1;34m(.0)\u001b[0m\n\u001b[0;32m      9\u001b[0m text \u001b[38;5;241m=\u001b[39m re\u001b[38;5;241m.\u001b[39msub(\u001b[38;5;124mr\u001b[39m\u001b[38;5;124m\"\u001b[39m\u001b[38;5;124m[^а-яёА-ЯЁ+#]+\u001b[39m\u001b[38;5;124m\"\u001b[39m, \u001b[38;5;124mr\u001b[39m\u001b[38;5;124m\"\u001b[39m\u001b[38;5;124m \u001b[39m\u001b[38;5;124m\"\u001b[39m, text) \u001b[38;5;66;03m# deleteng all elements that are not letters or signs\u001b[39;00m\n\u001b[0;32m     10\u001b[0m \u001b[38;5;66;03m#print(3, text)\u001b[39;00m\n\u001b[1;32m---> 11\u001b[0m text \u001b[38;5;241m=\u001b[39m \u001b[38;5;124m\"\u001b[39m\u001b[38;5;124m \u001b[39m\u001b[38;5;124m\"\u001b[39m\u001b[38;5;241m.\u001b[39mjoin([\u001b[43mmorph\u001b[49m\u001b[38;5;241;43m.\u001b[39;49m\u001b[43mnormal_forms\u001b[49m\u001b[43m(\u001b[49m\u001b[43mtoken\u001b[49m\u001b[43m)\u001b[49m[\u001b[38;5;241m0\u001b[39m] \u001b[38;5;28;01mfor\u001b[39;00m token \u001b[38;5;129;01min\u001b[39;00m text\u001b[38;5;241m.\u001b[39msplit(\u001b[38;5;124m\"\u001b[39m\u001b[38;5;124m \u001b[39m\u001b[38;5;124m\"\u001b[39m) \u001b[38;5;28;01mif\u001b[39;00m (token \u001b[38;5;129;01mnot\u001b[39;00m \u001b[38;5;129;01min\u001b[39;00m sw)])\n\u001b[0;32m     12\u001b[0m \u001b[38;5;66;03m#print(4, text)\u001b[39;00m\n\u001b[0;32m     13\u001b[0m \u001b[38;5;28;01mreturn\u001b[39;00m text\n",
      "File \u001b[1;32m~\\anaconda3\\envs\\kaggle_env\\lib\\site-packages\\pymorphy2\\analyzer.py:350\u001b[0m, in \u001b[0;36mMorphAnalyzer.normal_forms\u001b[1;34m(self, word)\u001b[0m\n\u001b[0;32m    347\u001b[0m seen \u001b[38;5;241m=\u001b[39m \u001b[38;5;28mset\u001b[39m()\n\u001b[0;32m    348\u001b[0m result \u001b[38;5;241m=\u001b[39m []\n\u001b[1;32m--> 350\u001b[0m \u001b[38;5;28;01mfor\u001b[39;00m p \u001b[38;5;129;01min\u001b[39;00m \u001b[38;5;28;43mself\u001b[39;49m\u001b[38;5;241;43m.\u001b[39;49m\u001b[43mparse\u001b[49m\u001b[43m(\u001b[49m\u001b[43mword\u001b[49m\u001b[43m)\u001b[49m:\n\u001b[0;32m    351\u001b[0m     normal_form \u001b[38;5;241m=\u001b[39m p[\u001b[38;5;241m2\u001b[39m]\n\u001b[0;32m    352\u001b[0m     \u001b[38;5;28;01mif\u001b[39;00m normal_form \u001b[38;5;129;01mnot\u001b[39;00m \u001b[38;5;129;01min\u001b[39;00m seen:\n",
      "File \u001b[1;32m~\\anaconda3\\envs\\kaggle_env\\lib\\site-packages\\pymorphy2\\analyzer.py:321\u001b[0m, in \u001b[0;36mMorphAnalyzer.parse\u001b[1;34m(self, word)\u001b[0m\n\u001b[0;32m    318\u001b[0m         \u001b[38;5;28;01mbreak\u001b[39;00m\n\u001b[0;32m    320\u001b[0m \u001b[38;5;28;01mif\u001b[39;00m \u001b[38;5;28mself\u001b[39m\u001b[38;5;241m.\u001b[39mprob_estimator \u001b[38;5;129;01mis\u001b[39;00m \u001b[38;5;129;01mnot\u001b[39;00m \u001b[38;5;28;01mNone\u001b[39;00m:\n\u001b[1;32m--> 321\u001b[0m     res \u001b[38;5;241m=\u001b[39m \u001b[38;5;28;43mself\u001b[39;49m\u001b[38;5;241;43m.\u001b[39;49m\u001b[43mprob_estimator\u001b[49m\u001b[38;5;241;43m.\u001b[39;49m\u001b[43mapply_to_parses\u001b[49m\u001b[43m(\u001b[49m\u001b[43mword\u001b[49m\u001b[43m,\u001b[49m\u001b[43m \u001b[49m\u001b[43mword_lower\u001b[49m\u001b[43m,\u001b[49m\u001b[43m \u001b[49m\u001b[43mres\u001b[49m\u001b[43m)\u001b[49m\n\u001b[0;32m    323\u001b[0m \u001b[38;5;28;01mif\u001b[39;00m \u001b[38;5;28mself\u001b[39m\u001b[38;5;241m.\u001b[39m_result_type \u001b[38;5;129;01mis\u001b[39;00m \u001b[38;5;28;01mNone\u001b[39;00m:\n\u001b[0;32m    324\u001b[0m     \u001b[38;5;28;01mreturn\u001b[39;00m res\n",
      "File \u001b[1;32m~\\anaconda3\\envs\\kaggle_env\\lib\\site-packages\\pymorphy2\\analyzer.py:77\u001b[0m, in \u001b[0;36mProbabilityEstimator.apply_to_parses\u001b[1;34m(self, word, word_lower, parses)\u001b[0m\n\u001b[0;32m     74\u001b[0m \u001b[38;5;28;01mif\u001b[39;00m \u001b[38;5;129;01mnot\u001b[39;00m parses:\n\u001b[0;32m     75\u001b[0m     \u001b[38;5;28;01mreturn\u001b[39;00m parses\n\u001b[1;32m---> 77\u001b[0m probs \u001b[38;5;241m=\u001b[39m [\u001b[38;5;28mself\u001b[39m\u001b[38;5;241m.\u001b[39mp_t_given_w\u001b[38;5;241m.\u001b[39mprob(word_lower, tag)\n\u001b[0;32m     78\u001b[0m         \u001b[38;5;28;01mfor\u001b[39;00m (word, tag, normal_form, score, methods_stack) \u001b[38;5;129;01min\u001b[39;00m parses]\n\u001b[0;32m     80\u001b[0m \u001b[38;5;28;01mif\u001b[39;00m \u001b[38;5;28msum\u001b[39m(probs) \u001b[38;5;241m==\u001b[39m \u001b[38;5;241m0\u001b[39m:\n\u001b[0;32m     81\u001b[0m     \u001b[38;5;66;03m# no P(t|w) information is available; return normalized estimate\u001b[39;00m\n\u001b[0;32m     82\u001b[0m     k \u001b[38;5;241m=\u001b[39m \u001b[38;5;241m1.0\u001b[39m \u001b[38;5;241m/\u001b[39m \u001b[38;5;28msum\u001b[39m(\u001b[38;5;28mmap\u001b[39m(_score_getter, parses))\n",
      "File \u001b[1;32m~\\anaconda3\\envs\\kaggle_env\\lib\\site-packages\\pymorphy2\\analyzer.py:77\u001b[0m, in \u001b[0;36m<listcomp>\u001b[1;34m(.0)\u001b[0m\n\u001b[0;32m     74\u001b[0m \u001b[38;5;28;01mif\u001b[39;00m \u001b[38;5;129;01mnot\u001b[39;00m parses:\n\u001b[0;32m     75\u001b[0m     \u001b[38;5;28;01mreturn\u001b[39;00m parses\n\u001b[1;32m---> 77\u001b[0m probs \u001b[38;5;241m=\u001b[39m [\u001b[38;5;28;43mself\u001b[39;49m\u001b[38;5;241;43m.\u001b[39;49m\u001b[43mp_t_given_w\u001b[49m\u001b[38;5;241;43m.\u001b[39;49m\u001b[43mprob\u001b[49m\u001b[43m(\u001b[49m\u001b[43mword_lower\u001b[49m\u001b[43m,\u001b[49m\u001b[43m \u001b[49m\u001b[43mtag\u001b[49m\u001b[43m)\u001b[49m\n\u001b[0;32m     78\u001b[0m         \u001b[38;5;28;01mfor\u001b[39;00m (word, tag, normal_form, score, methods_stack) \u001b[38;5;129;01min\u001b[39;00m parses]\n\u001b[0;32m     80\u001b[0m \u001b[38;5;28;01mif\u001b[39;00m \u001b[38;5;28msum\u001b[39m(probs) \u001b[38;5;241m==\u001b[39m \u001b[38;5;241m0\u001b[39m:\n\u001b[0;32m     81\u001b[0m     \u001b[38;5;66;03m# no P(t|w) information is available; return normalized estimate\u001b[39;00m\n\u001b[0;32m     82\u001b[0m     k \u001b[38;5;241m=\u001b[39m \u001b[38;5;241m1.0\u001b[39m \u001b[38;5;241m/\u001b[39m \u001b[38;5;28msum\u001b[39m(\u001b[38;5;28mmap\u001b[39m(_score_getter, parses))\n",
      "File \u001b[1;32m~\\anaconda3\\envs\\kaggle_env\\lib\\site-packages\\pymorphy2\\dawg.py:66\u001b[0m, in \u001b[0;36mConditionalProbDistDAWG.prob\u001b[1;34m(self, word, tag)\u001b[0m\n\u001b[0;32m     64\u001b[0m \u001b[38;5;28;01mdef\u001b[39;00m \u001b[38;5;21mprob\u001b[39m(\u001b[38;5;28mself\u001b[39m, word, tag):\n\u001b[0;32m     65\u001b[0m     dawg_key \u001b[38;5;241m=\u001b[39m \u001b[38;5;124m\"\u001b[39m\u001b[38;5;132;01m%s\u001b[39;00m\u001b[38;5;124m:\u001b[39m\u001b[38;5;132;01m%s\u001b[39;00m\u001b[38;5;124m\"\u001b[39m \u001b[38;5;241m%\u001b[39m (word, tag)\n\u001b[1;32m---> 66\u001b[0m     \u001b[38;5;28;01mreturn\u001b[39;00m \u001b[38;5;28;43mself\u001b[39;49m\u001b[38;5;241;43m.\u001b[39;49m\u001b[43mget\u001b[49m\u001b[43m(\u001b[49m\u001b[43mdawg_key\u001b[49m\u001b[43m,\u001b[49m\u001b[43m \u001b[49m\u001b[38;5;241;43m0\u001b[39;49m\u001b[43m)\u001b[49m \u001b[38;5;241m/\u001b[39m \u001b[38;5;28mself\u001b[39m\u001b[38;5;241m.\u001b[39mMULTIPLIER\n",
      "File \u001b[1;32m~\\anaconda3\\envs\\kaggle_env\\lib\\site-packages\\dawg_python\\dawgs.py:453\u001b[0m, in \u001b[0;36mIntDAWG.get\u001b[1;34m(self, key, default)\u001b[0m\n\u001b[0;32m    451\u001b[0m \u001b[38;5;28;01mif\u001b[39;00m \u001b[38;5;129;01mnot\u001b[39;00m \u001b[38;5;28misinstance\u001b[39m(key, \u001b[38;5;28mbytes\u001b[39m):\n\u001b[0;32m    452\u001b[0m     key \u001b[38;5;241m=\u001b[39m key\u001b[38;5;241m.\u001b[39mencode(\u001b[38;5;124m'\u001b[39m\u001b[38;5;124mutf8\u001b[39m\u001b[38;5;124m'\u001b[39m)\n\u001b[1;32m--> 453\u001b[0m res \u001b[38;5;241m=\u001b[39m \u001b[38;5;28;43mself\u001b[39;49m\u001b[38;5;241;43m.\u001b[39;49m\u001b[43mb_get_value\u001b[49m\u001b[43m(\u001b[49m\u001b[43mkey\u001b[49m\u001b[43m)\u001b[49m\n\u001b[0;32m    454\u001b[0m \u001b[38;5;28;01mif\u001b[39;00m res \u001b[38;5;241m==\u001b[39m LOOKUP_ERROR:\n\u001b[0;32m    455\u001b[0m     \u001b[38;5;28;01mreturn\u001b[39;00m default\n",
      "File \u001b[1;32m~\\anaconda3\\envs\\kaggle_env\\lib\\site-packages\\dawg_python\\dawgs.py:459\u001b[0m, in \u001b[0;36mIntDAWG.b_get_value\u001b[1;34m(self, key)\u001b[0m\n\u001b[0;32m    458\u001b[0m \u001b[38;5;28;01mdef\u001b[39;00m \u001b[38;5;21mb_get_value\u001b[39m(\u001b[38;5;28mself\u001b[39m, key):\n\u001b[1;32m--> 459\u001b[0m     \u001b[38;5;28;01mreturn\u001b[39;00m \u001b[38;5;28;43mself\u001b[39;49m\u001b[38;5;241;43m.\u001b[39;49m\u001b[43mdct\u001b[49m\u001b[38;5;241;43m.\u001b[39;49m\u001b[43mfind\u001b[49m\u001b[43m(\u001b[49m\u001b[43mkey\u001b[49m\u001b[43m)\u001b[49m\n",
      "File \u001b[1;32m~\\anaconda3\\envs\\kaggle_env\\lib\\site-packages\\dawg_python\\wrapper.py:44\u001b[0m, in \u001b[0;36mDictionary.find\u001b[1;34m(self, key)\u001b[0m\n\u001b[0;32m     42\u001b[0m \u001b[38;5;28;01mdef\u001b[39;00m \u001b[38;5;21mfind\u001b[39m(\u001b[38;5;28mself\u001b[39m, key):\n\u001b[0;32m     43\u001b[0m     \u001b[38;5;124m\"\u001b[39m\u001b[38;5;124mExact matching (returns value)\u001b[39m\u001b[38;5;124m\"\u001b[39m\n\u001b[1;32m---> 44\u001b[0m     index \u001b[38;5;241m=\u001b[39m \u001b[38;5;28;43mself\u001b[39;49m\u001b[38;5;241;43m.\u001b[39;49m\u001b[43mfollow_bytes\u001b[49m\u001b[43m(\u001b[49m\u001b[43mkey\u001b[49m\u001b[43m,\u001b[49m\u001b[43m \u001b[49m\u001b[38;5;28;43mself\u001b[39;49m\u001b[38;5;241;43m.\u001b[39;49m\u001b[43mROOT\u001b[49m\u001b[43m)\u001b[49m\n\u001b[0;32m     45\u001b[0m     \u001b[38;5;28;01mif\u001b[39;00m index \u001b[38;5;129;01mis\u001b[39;00m \u001b[38;5;28;01mNone\u001b[39;00m:\n\u001b[0;32m     46\u001b[0m         \u001b[38;5;28;01mreturn\u001b[39;00m \u001b[38;5;241m-\u001b[39m\u001b[38;5;241m1\u001b[39m\n",
      "File \u001b[1;32m~\\anaconda3\\envs\\kaggle_env\\lib\\site-packages\\dawg_python\\wrapper.py:64\u001b[0m, in \u001b[0;36mDictionary.follow_bytes\u001b[1;34m(self, s, index)\u001b[0m\n\u001b[0;32m     62\u001b[0m \u001b[38;5;124m\"\u001b[39m\u001b[38;5;124mFollows transitions.\u001b[39m\u001b[38;5;124m\"\u001b[39m\n\u001b[0;32m     63\u001b[0m \u001b[38;5;28;01mfor\u001b[39;00m ch \u001b[38;5;129;01min\u001b[39;00m s:\n\u001b[1;32m---> 64\u001b[0m     index \u001b[38;5;241m=\u001b[39m \u001b[38;5;28;43mself\u001b[39;49m\u001b[38;5;241;43m.\u001b[39;49m\u001b[43mfollow_char\u001b[49m\u001b[43m(\u001b[49m\u001b[43mint_from_byte\u001b[49m\u001b[43m(\u001b[49m\u001b[43mch\u001b[49m\u001b[43m)\u001b[49m\u001b[43m,\u001b[49m\u001b[43m \u001b[49m\u001b[43mindex\u001b[49m\u001b[43m)\u001b[49m\n\u001b[0;32m     65\u001b[0m     \u001b[38;5;28;01mif\u001b[39;00m index \u001b[38;5;129;01mis\u001b[39;00m \u001b[38;5;28;01mNone\u001b[39;00m:\n\u001b[0;32m     66\u001b[0m         \u001b[38;5;28;01mreturn\u001b[39;00m \u001b[38;5;28;01mNone\u001b[39;00m\n",
      "File \u001b[1;32m~\\anaconda3\\envs\\kaggle_env\\lib\\site-packages\\dawg_python\\wrapper.py:53\u001b[0m, in \u001b[0;36mDictionary.follow_char\u001b[1;34m(self, label, index)\u001b[0m\n\u001b[0;32m     51\u001b[0m \u001b[38;5;28;01mdef\u001b[39;00m \u001b[38;5;21mfollow_char\u001b[39m(\u001b[38;5;28mself\u001b[39m, label, index):\n\u001b[0;32m     52\u001b[0m     \u001b[38;5;124m\"\u001b[39m\u001b[38;5;124mFollows a transition\u001b[39m\u001b[38;5;124m\"\u001b[39m\n\u001b[1;32m---> 53\u001b[0m     offset \u001b[38;5;241m=\u001b[39m units\u001b[38;5;241m.\u001b[39moffset(\u001b[38;5;28;43mself\u001b[39;49m\u001b[38;5;241;43m.\u001b[39;49m\u001b[43m_units\u001b[49m[index])\n\u001b[0;32m     54\u001b[0m     next_index \u001b[38;5;241m=\u001b[39m (index \u001b[38;5;241m^\u001b[39m offset \u001b[38;5;241m^\u001b[39m label) \u001b[38;5;241m&\u001b[39m units\u001b[38;5;241m.\u001b[39mPRECISION_MASK\n\u001b[0;32m     56\u001b[0m     \u001b[38;5;28;01mif\u001b[39;00m units\u001b[38;5;241m.\u001b[39mlabel(\u001b[38;5;28mself\u001b[39m\u001b[38;5;241m.\u001b[39m_units[next_index]) \u001b[38;5;241m!=\u001b[39m label:\n",
      "\u001b[1;31mKeyboardInterrupt\u001b[0m: "
     ]
    }
   ],
   "source": [
    "bar = tqdm(total=X_train.shape[0])\n",
    "X_train_preprocessed = []\n",
    "for i in range(X_train.shape[0]):\n",
    "    X_train_preprocessed.append(preprocess_text(X_train.iloc[i]))\n",
    "    bar.update()\n",
    "X_train_preprocessed = pd.DataFrame(X_train_preprocessed)"
   ]
  },
  {
   "cell_type": "code",
   "execution_count": null,
   "id": "b61b7a06",
   "metadata": {},
   "outputs": [],
   "source": [
    "X_train_preprocessed.columns = [\"text\"]\n",
    "y_train.index = range(y_train.shape[0])\n",
    "X_train_preprocessed['target'] = y_train\n",
    "X_train_preprocessed"
   ]
  },
  {
   "cell_type": "code",
   "execution_count": null,
   "id": "19f11988",
   "metadata": {},
   "outputs": [],
   "source": [
    "X_train.iloc[0]"
   ]
  },
  {
   "cell_type": "code",
   "execution_count": null,
   "id": "cb375e39",
   "metadata": {},
   "outputs": [],
   "source": [
    "preprocess_text(X_train.iloc[0])"
   ]
  },
  {
   "cell_type": "code",
   "execution_count": null,
   "id": "8540203d",
   "metadata": {},
   "outputs": [],
   "source": [
    "X_train_preprocessed.to_csv(\"data/preprocessed_data_train.csv\", index=False)"
   ]
  },
  {
   "cell_type": "markdown",
   "id": "c14e6f7f",
   "metadata": {},
   "source": [
    "#### X_test"
   ]
  },
  {
   "cell_type": "code",
   "execution_count": null,
   "id": "bcb8a6d9",
   "metadata": {},
   "outputs": [],
   "source": [
    "test_df"
   ]
  },
  {
   "cell_type": "code",
   "execution_count": null,
   "id": "0d5dbbe8",
   "metadata": {},
   "outputs": [],
   "source": [
    "X_test = test_df['description']"
   ]
  },
  {
   "cell_type": "code",
   "execution_count": null,
   "id": "e5959f03",
   "metadata": {},
   "outputs": [],
   "source": [
    "X_test"
   ]
  },
  {
   "cell_type": "code",
   "execution_count": null,
   "id": "38ee0bfa",
   "metadata": {},
   "outputs": [],
   "source": [
    "bar = tqdm(total=X_test.shape[0])\n",
    "X_test_preprocessed = []\n",
    "for i in range(X_test.shape[0]):\n",
    "    X_test_preprocessed.append(preprocess_text(X_test.iloc[i]))\n",
    "    bar.update()\n",
    "X_test_preprocessed = pd.DataFrame(X_test_preprocessed)"
   ]
  },
  {
   "cell_type": "code",
   "execution_count": null,
   "id": "bf7d169e",
   "metadata": {},
   "outputs": [],
   "source": [
    "X_test_preprocessed"
   ]
  },
  {
   "cell_type": "code",
   "execution_count": null,
   "id": "1468e901",
   "metadata": {},
   "outputs": [],
   "source": [
    "X_test_preprocessed.columns = [\"text\"]\n",
    "ids = test_df.id\n",
    "X_test_preprocessed['id'] = ids"
   ]
  },
  {
   "cell_type": "code",
   "execution_count": null,
   "id": "72960805",
   "metadata": {},
   "outputs": [],
   "source": [
    "X_test_preprocessed"
   ]
  },
  {
   "cell_type": "code",
   "execution_count": null,
   "id": "8e74827d",
   "metadata": {},
   "outputs": [],
   "source": [
    "X_test_preprocessed.to_csv(\"data/preprocessed_data_test.csv\", index=False)"
   ]
  },
  {
   "cell_type": "markdown",
   "id": "efdb0d6a",
   "metadata": {},
   "source": [
    "# MODELS"
   ]
  },
  {
   "cell_type": "code",
   "execution_count": 2,
   "id": "1f414327",
   "metadata": {},
   "outputs": [],
   "source": [
    "# BAZA\n",
    "import numpy as np\n",
    "import pandas as pd\n",
    "import matplotlib.pyplot as plt\n",
    "from IPython.display import clear_output\n",
    "from argparse import Namespace\n",
    "from collections import Counter\n",
    "import string\n",
    "import os\n",
    "# OSNOVA\n",
    "import torch\n",
    "import torch.nn as nn\n",
    "import torch.nn.functional as F\n",
    "import torch.optim as opt\n",
    "from torch.utils.data import Dataset, DataLoader\n",
    "from tqdm.notebook import tqdm\n",
    "from torchmetrics.functional import r2_score"
   ]
  },
  {
   "cell_type": "code",
   "execution_count": 3,
   "id": "c941d32a",
   "metadata": {},
   "outputs": [],
   "source": [
    "class Vocabulary(object):\n",
    "    def __init__(self, token_to_idx=None):\n",
    "        self._token_to_idx = dict()\n",
    "        if token_to_idx is not None:\n",
    "            self._token_to_idx = token_to_idx\n",
    "        self._idx_to_token = {\n",
    "            index: token\n",
    "            for token, index in self._token_to_idx\n",
    "        }\n",
    "    \n",
    "    def add_token(self, token):\n",
    "        if token in self._token_to_idx:\n",
    "            index = self._token_to_idx[token]\n",
    "        else:\n",
    "            index = len(self._token_to_idx)\n",
    "            self._token_to_idx[token] = index\n",
    "            self._idx_to_token[index] = token\n",
    "        return index\n",
    "    \n",
    "    def lookup_token(self, token):\n",
    "        if token in self._token_to_idx:\n",
    "            return self._token_to_idx[token]\n",
    "        raise KeyError(f\"Token {token} is not in Vocabulary\")\n",
    "   \n",
    "    def lookup_index(self, index):\n",
    "        if index in self._idx_to_token:\n",
    "            return self._idx_to_token[index]\n",
    "        raise KeyError(f\"No token with index {index} in Vocabulary\")        \n",
    "        \n",
    "    def __len__(self):\n",
    "        return len(self._token_to_idx)"
   ]
  },
  {
   "cell_type": "code",
   "execution_count": 4,
   "id": "c1ce6813",
   "metadata": {},
   "outputs": [],
   "source": [
    "class SequenceVocabulary(Vocabulary):\n",
    "    def __init__(self, token_to_idx=None, \n",
    "                 mask_token=\"<MSK>\", unk_token=\"<UNK>\",\n",
    "                 begin_token=\"<BGN>\", end_token=\"<END>\"\n",
    "                ):\n",
    "        super(SequenceVocabulary, self).__init__(token_to_idx)\n",
    "        \n",
    "        self._mask_token = mask_token\n",
    "        self._unk_token = unk_token\n",
    "        self._begin_token = begin_token\n",
    "        self._end_token = end_token\n",
    "        \n",
    "        self.mask_index = self.add_token(self._mask_token)\n",
    "        self.unk_index = self.add_token(self._unk_token)\n",
    "        self.begin_index = self.add_token(self._begin_token)\n",
    "        self.end_index = self.add_token(self._end_token)\n",
    "    \n",
    "    def lookup_token(self, token):\n",
    "        if self.unk_index >= 0:\n",
    "            return self._token_to_idx.get(token, self.unk_index)\n",
    "        else:\n",
    "            return self._token_to_idx[token]"
   ]
  },
  {
   "cell_type": "code",
   "execution_count": 5,
   "id": "fe9a0f35",
   "metadata": {},
   "outputs": [],
   "source": [
    "class Vectorizer(object):\n",
    "    def __init__(self, vocab=None):\n",
    "        self.vocab = vocab\n",
    "        \n",
    "    @classmethod\n",
    "    def from_dataframe(cls, df, cutoff=10):\n",
    "        vocab = SequenceVocabulary()\n",
    "        \n",
    "        tokens_counter = Counter()\n",
    "        for text in df.text:\n",
    "            for token in text.split(\" \"):\n",
    "                tokens_counter[token] += 1\n",
    "                \n",
    "        for token, count in tokens_counter.items():\n",
    "            if count >= cutoff:\n",
    "                vocab.add_token(token)\n",
    "        \n",
    "        return cls(vocab)\n",
    "    \n",
    "    def vectorize(self, description, vector_length=-1):\n",
    "        # tokens\n",
    "        indices = [self.vocab.begin_index]\n",
    "        for token in description.split(\" \"):\n",
    "            indices.append(self.vocab.lookup_token(token))\n",
    "        indices.append(self.vocab.end_index)\n",
    "        # filling\n",
    "        if vector_length < 0:\n",
    "            vector_length = len(indices)\n",
    "        out_vector = np.zeros(vector_length, dtype=np.int64)\n",
    "        out_vector[:len(indices)] = indices\n",
    "        out_vector[len(indices):] = self.vocab.mask_index\n",
    "        return out_vector"
   ]
  },
  {
   "cell_type": "code",
   "execution_count": 6,
   "id": "198cde06",
   "metadata": {},
   "outputs": [],
   "source": [
    "class JobsDataset(Dataset):\n",
    "    def __init__(self, data, vectorizer):\n",
    "        self.data = data\n",
    "        self._vectorizer = vectorizer\n",
    "        \n",
    "        get_length = lambda text: len(text.split(\" \"))\n",
    "        \n",
    "        self._max_length = max(self.data.text.apply(get_length)) + 2 \n",
    "    \n",
    "    def __getitem__(self, index):\n",
    "        x_data = self._vectorizer.vectorize(self.data.text.iloc[index], self._max_length)\n",
    "        y_target = self.data.target.iloc[index]\n",
    "        return {\n",
    "            'x_data': x_data,\n",
    "            'y_target': y_target\n",
    "        }\n",
    "    \n",
    "    def __len__(self):\n",
    "        return len(self.data)\n",
    "    \n",
    "    def get_num_batches(self, batch_size):\n",
    "        return len(self) // batch_size\n",
    "    \n",
    "    @classmethod\n",
    "    def load_dataset_and_make_vectorizer(cls, df_path):\n",
    "        df = pd.read_csv(df_path)\n",
    "        vectorizer = Vectorizer.from_dataframe(df)\n",
    "        return cls(df, vectorizer)"
   ]
  },
  {
   "cell_type": "code",
   "execution_count": 30,
   "id": "efe73431",
   "metadata": {},
   "outputs": [],
   "source": [
    "def seed_everywhere(seed):\n",
    "    random.seed(seed)\n",
    "    os.environ[\"PYTHONHASHSEED\"] = str(seed)\n",
    "    np.random.seed(seed)\n",
    "    torch.manual_seed(seed)\n",
    "    torch.cuda.manual_seed(seed)\n",
    "    torch.backends.cudnn.deterministic = True"
   ]
  },
  {
   "cell_type": "code",
   "execution_count": 31,
   "id": "1e0e1e5d",
   "metadata": {},
   "outputs": [],
   "source": [
    "def generate_batches(dataset, batch_size, shuffle=True, device=\"cpu\"):\n",
    "    dataloader = DataLoader(dataset=dataset, batch_size=batch_size, shuffle=shuffle)\n",
    "    for data_dict in dataloader:\n",
    "        out_dict = dict()\n",
    "        for name, data in data_dict.items():\n",
    "            out_dict[name] = data_dict[name].to(device)\n",
    "        yield out_dict"
   ]
  },
  {
   "cell_type": "code",
   "execution_count": 82,
   "id": "1e429b19",
   "metadata": {},
   "outputs": [],
   "source": [
    "args = Namespace(\n",
    "    #dirs\n",
    "    train_data_path = 'data/preprocessed_data_train.csv',\n",
    "    test_data_path = 'data/preprocessed_data_test.csv',\n",
    "    model_filepath='data/model_storage/model.pth',\n",
    "    #model hyper params\n",
    "    seed = 1,\n",
    "    dropout_p = 0.2,\n",
    "    embedding_size = 100,\n",
    "    hidden_size = 200,\n",
    "    batch_size = 128,\n",
    "    num_epochs = 100,\n",
    "    learning_rate=0.001,\n",
    "    early_stopping_criteria=5,\n",
    "    #utils\n",
    "    use_cuda = True,\n",
    ")\n",
    "\n",
    "train_state = {\n",
    "    'stop_early': False,\n",
    "    'early_stopping_step': 0,\n",
    "    'early_stopping_best_val': 1e8,\n",
    "    'learning_rate': args.learning_rate,\n",
    "    'epoch_index': 0,\n",
    "    'train_loss': [],\n",
    "    'val_loss': [],\n",
    "    'test_loss': -1,\n",
    "    'model_filename': args.model_filepath,\n",
    "    'train_r2':[],\n",
    "    'val_r2':[],\n",
    "}\n",
    "\n",
    "def update_train_state(args, model, train_state):\n",
    "    if train_state['epoch_index'] == 0:\n",
    "        torch.save(model.state_dict(), train_state['model_filename'])\n",
    "        print(f\"Saving model on {train_state['epoch_index']} epoch\")\n",
    "        train_state['stop_early'] = False\n",
    "    elif train_state['epoch_index'] >= 1:\n",
    "        loss_t2, loss_t = train_state['train_loss'][-2:]\n",
    "        \n",
    "        if abs(loss_t - loss_t2) >= train_state['early_stopping_best_val']:\n",
    "            train_state['early_stopping_step'] += 1\n",
    "        else:\n",
    "            if loss_t < train_state['early_stopping_best_val']:\n",
    "                torch.save(model.state_dict(), train_state['model_filename'])\n",
    "                print(f\"Saving model on {train_state['epoch_index']} epoch\")\n",
    "            train_state['early_stopping_step'] = 0\n",
    "        train_state['stop_early'] = train_state['early_stopping_step'] >= args.early_stopping_criteria\n",
    "    return train_state"
   ]
  },
  {
   "cell_type": "code",
   "execution_count": 83,
   "id": "2d787c16",
   "metadata": {},
   "outputs": [],
   "source": [
    "class SalaryPredictor(nn.Module):\n",
    "    def __init__(self, embedding_size, num_embeddings, hidden_size, dropout_p, padding_idx):\n",
    "        super(SalaryPredictor, self).__init__()\n",
    "        \n",
    "        self.emb = nn.Embedding(\n",
    "            num_embeddings=num_embeddings,\n",
    "            embedding_dim=embedding_size,\n",
    "            padding_idx=padding_idx,\n",
    "        )\n",
    "        self.convert = nn.Sequential(\n",
    "            nn.Linear(in_features=embedding_size, out_features=hidden_size),\n",
    "            nn.ELU(),\n",
    "            nn.Linear(in_features=hidden_size, out_features=hidden_size),\n",
    "            nn.ELU(),\n",
    "            nn.Linear(in_features=hidden_size, out_features=hidden_size),\n",
    "            nn.ELU(),\n",
    "        )\n",
    "        self._dropout_p = dropout_p\n",
    "        self.lin1 = nn.Linear(in_features=hidden_size, out_features=int(hidden_size / 2))\n",
    "        self.lin2 = nn.Linear(in_features=int(hidden_size / 2), out_features=1)\n",
    "    \n",
    "    def forward(self, x_in):\n",
    "        #print(x_in.dtype)\n",
    "        #print(x_in.size())\n",
    "        x_embedded = self.emb(x_in).sum(dim=1)\n",
    "        #print(x_embedded.dtype)\n",
    "        #print(x_embedded.size())\n",
    "        x_out = self.convert(x_embedded)\n",
    "        #print(x_out.dtype)\n",
    "        #print(x_out.size())\n",
    "        x_out = F.dropout(x_out, p=self._dropout_p)\n",
    "        #print(x_out.dtype)\n",
    "        #print(x_out.size())\n",
    "        x_out = F.relu(F.dropout(self.lin1(x_out), p=self._dropout_p))\n",
    "        #print(x_out.dtype)\n",
    "        #print(x_out.size())\n",
    "        x_out = self.lin2(x_out)\n",
    "        #print(x_out.dtype)\n",
    "        #print(x_out.size())\n",
    "        \n",
    "        return x_out.squeeze()"
   ]
  },
  {
   "cell_type": "code",
   "execution_count": 84,
   "id": "7d26efc6",
   "metadata": {},
   "outputs": [
    {
     "name": "stdout",
     "output_type": "stream",
     "text": [
      "USE CUDA -> False\n"
     ]
    }
   ],
   "source": [
    "# cuda setting\n",
    "if not torch.cuda.is_available():\n",
    "    args.use_cuda = False\n",
    "    \n",
    "args.device = torch.device(\"cuda\" if args.use_cuda else \"cpu\")\n",
    "print(f\"USE CUDA -> {args.use_cuda}\")"
   ]
  },
  {
   "cell_type": "code",
   "execution_count": 85,
   "id": "8e2c070a",
   "metadata": {},
   "outputs": [],
   "source": [
    "#train test split\n",
    "from sklearn.model_selection import train_test_split"
   ]
  },
  {
   "cell_type": "code",
   "execution_count": 86,
   "id": "1a284dba",
   "metadata": {},
   "outputs": [],
   "source": [
    "df_train, df_val = train_test_split(pd.read_csv(args.train_data_path), shuffle=True, random_state=1)\n",
    "df_train.to_csv(args.train_data_path)"
   ]
  },
  {
   "cell_type": "code",
   "execution_count": 87,
   "id": "da15a692",
   "metadata": {},
   "outputs": [],
   "source": [
    "# dataset and classifier preparing\n",
    "\n",
    "train_dataset = JobsDataset.load_dataset_and_make_vectorizer(args.train_data_path)\n",
    "vectorizer = train_dataset._vectorizer\n",
    "val_dataset = JobsDataset(df_val, vectorizer)\n",
    "\n",
    "test_dataset = JobsDataset(pd.read_csv(args.test_data_path), vectorizer)\n",
    "\n",
    "model = SalaryPredictor(\n",
    "    embedding_size=args.embedding_size, \n",
    "    num_embeddings=len(vectorizer.vocab),\n",
    "    hidden_size=args.hidden_size,\n",
    "    dropout_p=args.dropout_p,\n",
    "    padding_idx=0\n",
    ")"
   ]
  },
  {
   "cell_type": "code",
   "execution_count": 88,
   "id": "afa3d566",
   "metadata": {},
   "outputs": [
    {
     "name": "stdout",
     "output_type": "stream",
     "text": [
      "SalaryPredictor(\n",
      "  (emb): Embedding(4145, 100, padding_idx=0)\n",
      "  (convert): Sequential(\n",
      "    (0): Linear(in_features=100, out_features=200, bias=True)\n",
      "    (1): ELU(alpha=1.0)\n",
      "    (2): Linear(in_features=200, out_features=200, bias=True)\n",
      "    (3): ELU(alpha=1.0)\n",
      "    (4): Linear(in_features=200, out_features=200, bias=True)\n",
      "    (5): ELU(alpha=1.0)\n",
      "  )\n",
      "  (lin1): Linear(in_features=200, out_features=100, bias=True)\n",
      "  (lin2): Linear(in_features=100, out_features=1, bias=True)\n",
      ")\n"
     ]
    }
   ],
   "source": [
    "print(model)"
   ]
  },
  {
   "cell_type": "code",
   "execution_count": null,
   "id": "acb86111",
   "metadata": {},
   "outputs": [],
   "source": []
  },
  {
   "cell_type": "code",
   "execution_count": 89,
   "id": "e227538e",
   "metadata": {},
   "outputs": [],
   "source": [
    "max_length = max(train_dataset._max_length, val_dataset._max_length, test_dataset._max_length)\n",
    "train_dataset._max_length = max_length\n",
    "val_dataset._max_length = max_length\n",
    "test_dataset._max_length = max_length"
   ]
  },
  {
   "cell_type": "code",
   "execution_count": 90,
   "id": "51f1eb40",
   "metadata": {
    "scrolled": false
   },
   "outputs": [
    {
     "data": {
      "application/vnd.jupyter.widget-view+json": {
       "model_id": "eef85e020df544e8b6a8e38312bd2808",
       "version_major": 2,
       "version_minor": 0
      },
      "text/plain": [
       "training:   0%|          | 0/100 [00:00<?, ?it/s]"
      ]
     },
     "metadata": {},
     "output_type": "display_data"
    },
    {
     "data": {
      "application/vnd.jupyter.widget-view+json": {
       "model_id": "0c0fecc6848e4898b5ce7349c662dd40",
       "version_major": 2,
       "version_minor": 0
      },
      "text/plain": [
       "split=train:   0%|          | 0/41 [00:00<?, ?it/s]"
      ]
     },
     "metadata": {},
     "output_type": "display_data"
    },
    {
     "data": {
      "application/vnd.jupyter.widget-view+json": {
       "model_id": "c63ecc3a1ab443029b7b0656e078e62f",
       "version_major": 2,
       "version_minor": 0
      },
      "text/plain": [
       "split=val:   0%|          | 0/13 [00:00<?, ?it/s]"
      ]
     },
     "metadata": {},
     "output_type": "display_data"
    },
    {
     "name": "stdout",
     "output_type": "stream",
     "text": [
      "r2 -0.9033641692552485\n",
      "loss 30942.26339285714\n",
      "Saving model on 0 epoch\n"
     ]
    },
    {
     "data": {
      "image/png": "[encoded data removed]",
      "text/plain": [
       "<Figure size 1000x1000 with 2 Axes>"
      ]
     },
     "metadata": {},
     "output_type": "display_data"
    },
    {
     "name": "stdout",
     "output_type": "stream",
     "text": [
      "r2 -0.251908838422526\n",
      "loss 24600.931501116072\n",
      "Saving model on 1 epoch\n",
      "r2 -0.06158768488561435\n",
      "loss 22035.331891741072\n",
      "Saving model on 2 epoch\n",
      "r2 0.05727281158164232\n",
      "loss 21040.1435546875\n",
      "Saving model on 3 epoch\n",
      "r2 0.1037068888203572\n",
      "loss 20086.69405691964\n",
      "Saving model on 4 epoch\n",
      "r2 0.11015455623379326\n",
      "loss 19512.68282645089\n",
      "Saving model on 5 epoch\n",
      "r2 0.17963134807695352\n",
      "loss 18868.5205078125\n",
      "Saving model on 6 epoch\n",
      "KeyBoard Interrupt\n"
     ]
    }
   ],
   "source": [
    "model = model.to(args.device)\n",
    "loss_func = nn.L1Loss()\n",
    "optimizer = opt.Adam(model.parameters(), lr=args.learning_rate)\n",
    "scheduler = opt.lr_scheduler.ReduceLROnPlateau(optimizer=optimizer, mode='min', factor=0.5, patience=1)\n",
    "\n",
    "epoch_bar = tqdm(desc=\"training\", total=args.num_epochs, position=0)\n",
    "train_bar = tqdm(desc=\"split=train\", total=train_dataset.get_num_batches(args.batch_size), position=1, leave=True)\n",
    "val_bar = tqdm(desc=\"split=val\", total=val_dataset.get_num_batches(args.batch_size), position=1, leave=True)\n",
    "\n",
    "fig, ax = plt.subplots(1, 2, figsize=(10, 10))\n",
    "\n",
    "try:\n",
    "    for epoch_index in range(args.num_epochs):\n",
    "        train_state['epoch_index'] = epoch_index\n",
    "        \n",
    "        batch_generator = generate_batches(dataset=train_dataset, batch_size=args.batch_size, device=args.device)\n",
    "        running_loss = 0.0\n",
    "        running_r2 = 0.0\n",
    "        model.train()\n",
    "        for batch_index, batch_dict in enumerate(batch_generator):\n",
    "            model.zero_grad()\n",
    "            \n",
    "            y_pred = model(x_in=batch_dict['x_data'])\n",
    "            \n",
    "            \n",
    "            loss = loss_func(y_pred, batch_dict['y_target'].to(torch.float32))\n",
    "            loss_t = loss.item()\n",
    "            running_loss += loss_t\n",
    "            \n",
    "            loss.backward()\n",
    "            \n",
    "            optimizer.step()\n",
    "            \n",
    "            r2_t = r2_score(y_pred, batch_dict['y_target']).item()\n",
    "            running_r2 += r2_t\n",
    "            \n",
    "            \n",
    "            train_bar.set_postfix(loss = running_loss, r2 = r2_t, epoch = epoch_index)\n",
    "            train_bar.update()\n",
    "          \n",
    "        running_r2 = running_r2 / (train_dataset.get_num_batches(args.batch_size) + 1)\n",
    "        running_loss /= (train_dataset.get_num_batches(args.batch_size) + 1)\n",
    "        train_state['train_loss'].append(running_loss)\n",
    "        train_state['train_r2'].append(running_r2)\n",
    "        \n",
    "        \n",
    "        batch_generator = generate_batches(dataset=val_dataset, batch_size=args.batch_size, device=args.device)\n",
    "        running_loss = 0.0\n",
    "        running_r2 = 0.0\n",
    "        model.eval()\n",
    "        for batch_index, batch_dict in enumerate(batch_generator): \n",
    "            y_pred = model(x_in=batch_dict['x_data'])\n",
    "            \n",
    "            \n",
    "            loss = loss_func(y_pred, batch_dict['y_target'].to(torch.float32))\n",
    "            loss_t = loss.item()\n",
    "            running_loss += loss_t\n",
    "            \n",
    "            \n",
    "            r2_t = r2_score(y_pred, batch_dict['y_target']).item()\n",
    "            running_r2 += r2_t\n",
    "            \n",
    "            \n",
    "            val_bar.set_postfix(loss = running_loss, r2 = r2_t, epoch = epoch_index)\n",
    "            val_bar.update()\n",
    "          \n",
    "        running_r2 = running_r2 / (val_dataset.get_num_batches(args.batch_size) + 1)\n",
    "        running_loss /= (val_dataset.get_num_batches(args.batch_size) + 1)\n",
    "        print(\"r2\", running_r2)\n",
    "        print(\"loss\", running_loss)\n",
    "        train_state['val_loss'].append(running_loss)\n",
    "        train_state['val_r2'].append(running_r2)\n",
    "        \n",
    "        train_state = update_train_state(args, model, train_state)\n",
    "        \n",
    "        scheduler.step(train_state['val_loss'][-1])\n",
    "        \n",
    "        ax[0].clear()\n",
    "        ax[1].clear()\n",
    "        ax[0].plot(train_state['train_loss'])\n",
    "        ax[1].plot(train_state['val_loss'])\n",
    "        plt.show()\n",
    "        #if train_state['stop_early']:\n",
    "         ##   print('Stopped early')\n",
    "         #   break\n",
    "            \n",
    "        train_bar.n = 0\n",
    "        val_bar.n = 0\n",
    "        epoch_bar.update()\n",
    "        \n",
    "except KeyboardInterrupt:\n",
    "    print(\"KeyBoard Interrupt\")"
   ]
  },
  {
   "cell_type": "code",
   "execution_count": 91,
   "id": "41233b81",
   "metadata": {},
   "outputs": [
    {
     "data": {
      "text/plain": [
       "[<matplotlib.lines.Line2D at 0x140237b8e50>]"
      ]
     },
     "execution_count": 91,
     "metadata": {},
     "output_type": "execute_result"
    },
    {
     "data": {
      "image/png": "[encoded data removed]",
      "text/plain": [
       "<Figure size 640x480 with 1 Axes>"
      ]
     },
     "metadata": {},
     "output_type": "display_data"
    }
   ],
   "source": [
    "plt.plot(train_state['train_loss'])"
   ]
  },
  {
   "cell_type": "code",
   "execution_count": 17,
   "id": "2af71232",
   "metadata": {},
   "outputs": [],
   "source": [
    "from sklearn.metrics import r2_score as r2_score_sklearn"
   ]
  },
  {
   "cell_type": "code",
   "execution_count": 26,
   "id": "4afba56a",
   "metadata": {},
   "outputs": [
    {
     "data": {
      "text/plain": [
       "0.14326151686720667"
      ]
     },
     "execution_count": 26,
     "metadata": {},
     "output_type": "execute_result"
    }
   ],
   "source": [
    "r2_score(y_pred, batch_dict['y_target']).item()"
   ]
  },
  {
   "cell_type": "code",
   "execution_count": 27,
   "id": "b4f185c0",
   "metadata": {},
   "outputs": [
    {
     "data": {
      "text/plain": [
       "0.14326151686720667"
      ]
     },
     "execution_count": 27,
     "metadata": {},
     "output_type": "execute_result"
    }
   ],
   "source": [
    "r2_score_sklearn(batch_dict['y_target'].detach().numpy(), y_pred.detach().numpy())"
   ]
  },
  {
   "cell_type": "markdown",
   "id": "eb728af0",
   "metadata": {},
   "source": [
    "# Predict"
   ]
  },
  {
   "cell_type": "code",
   "execution_count": null,
   "id": "c9caedef",
   "metadata": {},
   "outputs": [],
   "source": [
    "test_df = pd.read_csv(args.test_data_path)"
   ]
  },
  {
   "cell_type": "code",
   "execution_count": null,
   "id": "f16ef2b8",
   "metadata": {},
   "outputs": [],
   "source": [
    "test_df"
   ]
  },
  {
   "cell_type": "code",
   "execution_count": 216,
   "id": "b76d04c0",
   "metadata": {},
   "outputs": [],
   "source": [
    "test_dict = test_df.to_dict()\n",
    "ids = test_dict['id']\n",
    "texts = test_dict['text']"
   ]
  },
  {
   "cell_type": "code",
   "execution_count": 233,
   "id": "8db089c9",
   "metadata": {},
   "outputs": [],
   "source": [
    "model.eval()\n",
    "result = {'id':[], 'salary':[]}\n",
    "for index, text in texts.items():\n",
    "    vectorized = torch.tensor(vectorizer.vectorize(text, train_dataset._max_length)).unsqueeze(dim=0)\n",
    "    predicted = model(vectorized).item()\n",
    "    result['id'].append(ids[index])\n",
    "    result['salary'].append(predicted)\n",
    "    \n",
    "result = pd.DataFrame(result)"
   ]
  },
  {
   "cell_type": "code",
   "execution_count": 234,
   "id": "32782475",
   "metadata": {},
   "outputs": [
    {
     "data": {
      "text/html": [
       "<div>\n",
       "<style scoped>\n",
       "    .dataframe tbody tr th:only-of-type {\n",
       "        vertical-align: middle;\n",
       "    }\n",
       "\n",
       "    .dataframe tbody tr th {\n",
       "        vertical-align: top;\n",
       "    }\n",
       "\n",
       "    .dataframe thead th {\n",
       "        text-align: right;\n",
       "    }\n",
       "</style>\n",
       "<table border=\"1\" class=\"dataframe\">\n",
       "  <thead>\n",
       "    <tr style=\"text-align: right;\">\n",
       "      <th></th>\n",
       "      <th>id</th>\n",
       "      <th>salary</th>\n",
       "    </tr>\n",
       "  </thead>\n",
       "  <tbody>\n",
       "    <tr>\n",
       "      <th>0</th>\n",
       "      <td>0</td>\n",
       "      <td>50756.835938</td>\n",
       "    </tr>\n",
       "    <tr>\n",
       "      <th>1</th>\n",
       "      <td>1</td>\n",
       "      <td>27514.220703</td>\n",
       "    </tr>\n",
       "    <tr>\n",
       "      <th>2</th>\n",
       "      <td>2</td>\n",
       "      <td>28001.964844</td>\n",
       "    </tr>\n",
       "    <tr>\n",
       "      <th>3</th>\n",
       "      <td>3</td>\n",
       "      <td>65158.046875</td>\n",
       "    </tr>\n",
       "    <tr>\n",
       "      <th>4</th>\n",
       "      <td>4</td>\n",
       "      <td>40583.125000</td>\n",
       "    </tr>\n",
       "    <tr>\n",
       "      <th>...</th>\n",
       "      <td>...</td>\n",
       "      <td>...</td>\n",
       "    </tr>\n",
       "    <tr>\n",
       "      <th>5538</th>\n",
       "      <td>5538</td>\n",
       "      <td>22708.271484</td>\n",
       "    </tr>\n",
       "    <tr>\n",
       "      <th>5539</th>\n",
       "      <td>5539</td>\n",
       "      <td>49500.570312</td>\n",
       "    </tr>\n",
       "    <tr>\n",
       "      <th>5540</th>\n",
       "      <td>5540</td>\n",
       "      <td>46605.476562</td>\n",
       "    </tr>\n",
       "    <tr>\n",
       "      <th>5541</th>\n",
       "      <td>5541</td>\n",
       "      <td>25058.099609</td>\n",
       "    </tr>\n",
       "    <tr>\n",
       "      <th>5542</th>\n",
       "      <td>5542</td>\n",
       "      <td>73698.382812</td>\n",
       "    </tr>\n",
       "  </tbody>\n",
       "</table>\n",
       "<p>5543 rows × 2 columns</p>\n",
       "</div>"
      ],
      "text/plain": [
       "        id        salary\n",
       "0        0  50756.835938\n",
       "1        1  27514.220703\n",
       "2        2  28001.964844\n",
       "3        3  65158.046875\n",
       "4        4  40583.125000\n",
       "...    ...           ...\n",
       "5538  5538  22708.271484\n",
       "5539  5539  49500.570312\n",
       "5540  5540  46605.476562\n",
       "5541  5541  25058.099609\n",
       "5542  5542  73698.382812\n",
       "\n",
       "[5543 rows x 2 columns]"
      ]
     },
     "execution_count": 234,
     "metadata": {},
     "output_type": "execute_result"
    }
   ],
   "source": [
    "result"
   ]
  },
  {
   "cell_type": "code",
   "execution_count": 235,
   "id": "6c41931b",
   "metadata": {},
   "outputs": [],
   "source": [
    "result.to_csv(\"data/results/test/test.csv\", index=False)"
   ]
  },
  {
   "cell_type": "code",
   "execution_count": null,
   "id": "9b0dc594",
   "metadata": {},
   "outputs": [],
   "source": []
  }
 ],
 "metadata": {
  "kernelspec": {
   "display_name": "Python 3 (ipykernel)",
   "language": "python",
   "name": "python3"
  },
  "language_info": {
   "codemirror_mode": {
    "name": "ipython",
    "version": 3
   },
   "file_extension": ".py",
   "mimetype": "text/x-python",
   "name": "python",
   "nbconvert_exporter": "python",
   "pygments_lexer": "ipython3",
   "version": "3.9.13"
  }
 },
 "nbformat": 4,
 "nbformat_minor": 5
}
